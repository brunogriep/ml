{
 "cells": [
  {
   "cell_type": "markdown",
   "metadata": {},
   "source": [
    "Universidade Federal de Santa Catarina<br>\n",
    "Departamento de Engenharia Elétrica e Eletrônica<br>\n",
    "EEL7514/EEL7513 - Introdução ao Aprendizado de Máquina<br>\n",
    "#### Bruno Griep Fernandes\n",
    "$\\newcommand{\\bX}{\\mathbf{X}}$\n",
    "$\\newcommand{\\bw}{\\mathbf{w}}$\n",
    "$\\newcommand{\\by}{\\mathbf{y}}$\n",
    "$\\newcommand{\\bx}{\\mathbf{x}}$\n",
    "\n",
    "# Exercício 3: Regressão Logística\n"
   ]
  },
  {
   "cell_type": "markdown",
   "metadata": {},
   "source": [
    "# 1. Conjunto de dados #1\n",
    "### Sem adição de novos atributos\n",
    "\n",
    "O arquivo `data1.txt`, fornece a pontuação de alunos em dois exames e a decisão se o aluno é aceito em uma universidade."
   ]
  },
  {
   "cell_type": "code",
   "execution_count": 1,
   "metadata": {},
   "outputs": [],
   "source": [
    "%matplotlib inline\n",
    "import pandas as pd\n",
    "import matplotlib.pyplot as plt\n",
    "import numpy as np\n",
    "import scipy.optimize as opt"
   ]
  },
  {
   "cell_type": "code",
   "execution_count": 2,
   "metadata": {},
   "outputs": [],
   "source": [
    "def plotDataset(X, y):\n",
    "    y = y.flatten()\n",
    "    plt.plot(X[y==0,1],X[y==0,2],'bo',X[y==1,1],X[y==1,2],'rx')\n",
    "\n",
    "def plotBoundary(X, w, N=1000):\n",
    "    x1 = np.linspace(X[:,1].min(), X[:,1].max(), N)\n",
    "    x2 = np.linspace(X[:,2].min(), X[:,2].max(), N)\n",
    "    xx1, xx2 = np.meshgrid(x1, x2)\n",
    "    X = np.column_stack((xx1.reshape(-1),xx2.reshape(-1)))\n",
    "    X = mapFeature(X)\n",
    "    y_hat = predict(X,w).reshape(xx1.shape)\n",
    "    y_hat = (y_hat>=0.5)*2-1\n",
    "    plt.contourf(xx1,xx2,y_hat,cmap=plt.cm.bwr,vmin=-5,vmax=5)"
   ]
  },
  {
   "cell_type": "code",
   "execution_count": 3,
   "metadata": {},
   "outputs": [
    {
     "data": {
      "text/html": [
       "<div>\n",
       "<style scoped>\n",
       "    .dataframe tbody tr th:only-of-type {\n",
       "        vertical-align: middle;\n",
       "    }\n",
       "\n",
       "    .dataframe tbody tr th {\n",
       "        vertical-align: top;\n",
       "    }\n",
       "\n",
       "    .dataframe thead th {\n",
       "        text-align: right;\n",
       "    }\n",
       "</style>\n",
       "<table border=\"1\" class=\"dataframe\">\n",
       "  <thead>\n",
       "    <tr style=\"text-align: right;\">\n",
       "      <th></th>\n",
       "      <th>0</th>\n",
       "      <th>1</th>\n",
       "      <th>2</th>\n",
       "    </tr>\n",
       "  </thead>\n",
       "  <tbody>\n",
       "    <tr>\n",
       "      <th>0</th>\n",
       "      <td>34.623660</td>\n",
       "      <td>78.024693</td>\n",
       "      <td>0</td>\n",
       "    </tr>\n",
       "    <tr>\n",
       "      <th>1</th>\n",
       "      <td>30.286711</td>\n",
       "      <td>43.894998</td>\n",
       "      <td>0</td>\n",
       "    </tr>\n",
       "    <tr>\n",
       "      <th>2</th>\n",
       "      <td>35.847409</td>\n",
       "      <td>72.902198</td>\n",
       "      <td>0</td>\n",
       "    </tr>\n",
       "  </tbody>\n",
       "</table>\n",
       "</div>"
      ],
      "text/plain": [
       "           0          1  2\n",
       "0  34.623660  78.024693  0\n",
       "1  30.286711  43.894998  0\n",
       "2  35.847409  72.902198  0"
      ]
     },
     "execution_count": 3,
     "metadata": {},
     "output_type": "execute_result"
    }
   ],
   "source": [
    "df = pd.read_csv(\"data1.txt\", header=None)\n",
    "df.head(3)"
   ]
  },
  {
   "cell_type": "code",
   "execution_count": 4,
   "metadata": {},
   "outputs": [],
   "source": [
    "def σ(z):\n",
    "    return 1/(1 + np.exp(-z))\n",
    "\n",
    "def cost(w,X,y):\n",
    "    m = len(y)\n",
    "    y_hat = σ(X.dot(w))\n",
    "    J = y.T.dot(np.log(y_hat)) + (1-y).T.dot(np.log(1 - y_hat))\n",
    "    J = -J/m\n",
    "    return J\n",
    "\n",
    "def addOnesColumn(X):\n",
    "    return np.hstack((np.ones((X.shape[0],1)),X))\n",
    "\n",
    "def mapFeature(X):\n",
    "    ### Define as modificações da matriz de atributos (adiciona a coluna de uns, nesse caso)\n",
    "    X_hat = np.column_stack((X,))\n",
    "    X_ext = np.ones([X_hat.shape[0],X_hat.shape[1]+1]) \n",
    "    X_ext[:,1:] = X_hat\n",
    "    return X_ext\n",
    "\n",
    "def train(X,y):\n",
    "    w = opt.minimize(fun=cost, x0=np.zeros(X.shape[1]), jac=gradient, args=(X,y)).x\n",
    "    return w\n",
    "\n",
    "def gradient(w, X, y):\n",
    "    wr = w.reshape(X.shape[1],1);    \n",
    "    grad = X.T.dot(σ(X.dot(wr))-y)\n",
    "    \n",
    "    grad_J = grad/len(y)                 \n",
    "    return grad_J.flatten()\n",
    "\n",
    "def predict(X,w):\n",
    "    y_hat = σ(X.dot(w))\n",
    "    return y_hat\n",
    "    \n",
    "def trainNorm(X,y):\n",
    "    means = X.mean(axis=0)\n",
    "    sigmas = X.std(axis=0)\n",
    "    X_hat = (X-means)/sigmas\n",
    "    X_hat[:,0] = X[:,0]\n",
    "\n",
    "    w = opt.minimize(fun=cost, x0=np.zeros(X.shape[1]), jac=gradient, args=(X_hat,y)).x\n",
    "    w_hat = w.copy()\n",
    "    w_hat[1:] = w[1:]/sigmas[1:];\n",
    "    w_hat[0] = w[0]- (w[1:]/sigmas[1:]).dot(means[1:])\n",
    "    return w_hat\n",
    "\n",
    "def accuracyRate(w,X,y):\n",
    "    y_hat = (predict(X,w)>0.5)*1\n",
    "    hits = list((y_hat == y)).count(True)\n",
    "    rate = hits/len(y)\n",
    "    return rate\n"
   ]
  },
  {
   "cell_type": "code",
   "execution_count": 5,
   "metadata": {},
   "outputs": [
    {
     "name": "stdout",
     "output_type": "stream",
     "text": [
      "(100, 3)\n",
      "(100, 1)\n"
     ]
    }
   ],
   "source": [
    "X = np.array(df[[0,1]][:])\n",
    "#X = addOnesColumn(X)\n",
    "X = mapFeature(X)\n",
    "y = df[2][:]\n",
    "y = np.array(y).reshape(-1,1)\n",
    "print(X.shape)\n",
    "print(y.shape)"
   ]
  },
  {
   "cell_type": "code",
   "execution_count": 6,
   "metadata": {},
   "outputs": [
    {
     "name": "stderr",
     "output_type": "stream",
     "text": [
      "/home/bruno/anaconda3/lib/python3.6/site-packages/ipykernel_launcher.py:7: RuntimeWarning: divide by zero encountered in log\n",
      "  import sys\n"
     ]
    },
    {
     "data": {
      "text/plain": [
       "array([-25.16133284,   0.2062317 ,   0.2014716 ])"
      ]
     },
     "execution_count": 6,
     "metadata": {},
     "output_type": "execute_result"
    }
   ],
   "source": [
    "w = train(X,y)\n",
    "w"
   ]
  },
  {
   "cell_type": "code",
   "execution_count": 7,
   "metadata": {},
   "outputs": [
    {
     "name": "stderr",
     "output_type": "stream",
     "text": [
      "/home/bruno/anaconda3/lib/python3.6/site-packages/ipykernel_launcher.py:39: RuntimeWarning: invalid value encountered in true_divide\n"
     ]
    },
    {
     "data": {
      "text/plain": [
       "array([-25.16056945,   0.20622963,   0.20146073])"
      ]
     },
     "execution_count": 7,
     "metadata": {},
     "output_type": "execute_result"
    }
   ],
   "source": [
    "w_norm = trainNorm(X,y)\n",
    "w_norm"
   ]
  },
  {
   "cell_type": "code",
   "execution_count": 8,
   "metadata": {},
   "outputs": [
    {
     "data": {
      "image/png": "[encoded data removed]",
      "text/plain": [
       "<Figure size 432x288 with 1 Axes>"
      ]
     },
     "metadata": {},
     "output_type": "display_data"
    }
   ],
   "source": [
    "plotDataset(X,y)\n",
    "plotBoundary(X,w)"
   ]
  },
  {
   "cell_type": "code",
   "execution_count": 9,
   "metadata": {},
   "outputs": [
    {
     "name": "stdout",
     "output_type": "stream",
     "text": [
      "Taxa de Erros:  0.10999999999999999\n"
     ]
    }
   ],
   "source": [
    "TaxaAcertos = accuracyRate(w.reshape(-1,1),X,y)\n",
    "print(\"Taxa de Erros: \", (1-TaxaAcertos))"
   ]
  },
  {
   "cell_type": "code",
   "execution_count": 10,
   "metadata": {},
   "outputs": [
    {
     "data": {
      "image/png": "[encoded data removed]",
      "text/plain": [
       "<Figure size 432x288 with 1 Axes>"
      ]
     },
     "metadata": {},
     "output_type": "display_data"
    }
   ],
   "source": [
    "plotDataset(X,y)\n",
    "plotBoundary(X,w_norm)"
   ]
  },
  {
   "cell_type": "code",
   "execution_count": 11,
   "metadata": {},
   "outputs": [
    {
     "name": "stdout",
     "output_type": "stream",
     "text": [
      "Taxa de Erros:  0.10999999999999999\n"
     ]
    }
   ],
   "source": [
    "TaxaAcertosNorm = accuracyRate(w_norm.reshape(-1,1),X,y)\n",
    "print(\"Taxa de Erros: \", (1-TaxaAcertosNorm))"
   ]
  },
  {
   "cell_type": "markdown",
   "metadata": {},
   "source": [
    "# 1. Conjunto de dados #1\n",
    "### Com adição de novos atributos"
   ]
  },
  {
   "cell_type": "code",
   "execution_count": 12,
   "metadata": {},
   "outputs": [],
   "source": [
    "def mapFeature(X):\n",
    "    ### Define as modificações da matriz de atributos (adiciona a coluna de uns, nesse caso)\n",
    "    X_hat = np.column_stack((X,X**2))\n",
    "    X_ext = np.ones([X_hat.shape[0],X_hat.shape[1]+1]) \n",
    "    X_ext[:,1:] = X_hat\n",
    "    return X_ext"
   ]
  },
  {
   "cell_type": "code",
   "execution_count": 13,
   "metadata": {},
   "outputs": [
    {
     "name": "stdout",
     "output_type": "stream",
     "text": [
      "(100, 5)\n",
      "(100, 1)\n"
     ]
    }
   ],
   "source": [
    "X2 = np.array(df[[0,1]][:])\n",
    "X2 = mapFeature(X2)\n",
    "y2 = df[2][:]\n",
    "y2 = np.array(y2).reshape(-1,1)\n",
    "print(X2.shape)\n",
    "print(y2.shape)"
   ]
  },
  {
   "cell_type": "code",
   "execution_count": 14,
   "metadata": {},
   "outputs": [
    {
     "name": "stderr",
     "output_type": "stream",
     "text": [
      "/home/bruno/anaconda3/lib/python3.6/site-packages/ipykernel_launcher.py:7: RuntimeWarning: divide by zero encountered in log\n",
      "  import sys\n",
      "/home/bruno/anaconda3/lib/python3.6/site-packages/ipykernel_launcher.py:7: RuntimeWarning: divide by zero encountered in log\n",
      "  import sys\n"
     ]
    },
    {
     "data": {
      "image/png": "[encoded data removed]",
      "text/plain": [
       "<Figure size 432x288 with 1 Axes>"
      ]
     },
     "metadata": {},
     "output_type": "display_data"
    }
   ],
   "source": [
    "w2 = train(X2,y2)\n",
    "plotDataset(X2,y2)\n",
    "plotBoundary(X2,w2)"
   ]
  },
  {
   "cell_type": "code",
   "execution_count": 15,
   "metadata": {},
   "outputs": [
    {
     "name": "stdout",
     "output_type": "stream",
     "text": [
      "Taxa de Erros:  0.6\n"
     ]
    }
   ],
   "source": [
    "TaxaAcertos2 = accuracyRate(w2.reshape(-1,1),X2,y2)\n",
    "print(\"Taxa de Erros: \", (1-TaxaAcertos2))"
   ]
  },
  {
   "cell_type": "markdown",
   "metadata": {},
   "source": [
    "Aqui pode-se notar que sem normalizar os atributos da tudo errado."
   ]
  },
  {
   "cell_type": "code",
   "execution_count": 16,
   "metadata": {},
   "outputs": [
    {
     "name": "stderr",
     "output_type": "stream",
     "text": [
      "/home/bruno/anaconda3/lib/python3.6/site-packages/ipykernel_launcher.py:39: RuntimeWarning: invalid value encountered in true_divide\n",
      "/home/bruno/anaconda3/lib/python3.6/site-packages/ipykernel_launcher.py:7: RuntimeWarning: divide by zero encountered in log\n",
      "  import sys\n",
      "/home/bruno/anaconda3/lib/python3.6/site-packages/ipykernel_launcher.py:2: RuntimeWarning: overflow encountered in exp\n",
      "  \n",
      "/home/bruno/anaconda3/lib/python3.6/site-packages/ipykernel_launcher.py:7: RuntimeWarning: divide by zero encountered in log\n",
      "  import sys\n"
     ]
    }
   ],
   "source": [
    "w2_norm = trainNorm(X2,y2)"
   ]
  },
  {
   "cell_type": "code",
   "execution_count": 17,
   "metadata": {},
   "outputs": [
    {
     "data": {
      "image/png": "[encoded data removed]",
      "text/plain": [
       "<Figure size 432x288 with 1 Axes>"
      ]
     },
     "metadata": {},
     "output_type": "display_data"
    }
   ],
   "source": [
    "plotDataset(X2,y2)\n",
    "plotBoundary(X2,w2_norm)"
   ]
  },
  {
   "cell_type": "code",
   "execution_count": 18,
   "metadata": {},
   "outputs": [
    {
     "name": "stdout",
     "output_type": "stream",
     "text": [
      "Taxa de Erros:  0.0\n"
     ]
    }
   ],
   "source": [
    "TaxaAcertos2 = accuracyRate(w2_norm.reshape(-1,1),X2,y2)\n",
    "print(\"Taxa de Erros: \", (1-TaxaAcertos2))"
   ]
  },
  {
   "cell_type": "markdown",
   "metadata": {},
   "source": [
    "### Neste Ponto já foi possível conseguir uma acurácia de 100%\n",
    "Por curiosidade de como ficaria com mais atributos ainda continuei o procedimento, mesmo não precisando tendo em vista que tem 100% de acertos."
   ]
  },
  {
   "cell_type": "markdown",
   "metadata": {},
   "source": [
    "# 1. Conjunto de dados #1\n",
    "### Com mais atributos ainda"
   ]
  },
  {
   "cell_type": "code",
   "execution_count": 19,
   "metadata": {},
   "outputs": [],
   "source": [
    "def mapFeature(X):\n",
    "    ### Define as modificações da matriz de atributos (adiciona a coluna de uns, nesse caso)\n",
    "    X_hat = np.column_stack((X,X**2,X**3))\n",
    "    X_ext = np.ones([X_hat.shape[0],X_hat.shape[1]+1]) \n",
    "    X_ext[:,1:] = X_hat\n",
    "    return X_ext"
   ]
  },
  {
   "cell_type": "code",
   "execution_count": 20,
   "metadata": {},
   "outputs": [
    {
     "name": "stdout",
     "output_type": "stream",
     "text": [
      "(100, 7)\n",
      "(100, 1)\n"
     ]
    }
   ],
   "source": [
    "X3 = np.array(df[[0,1]][:])\n",
    "X3 = mapFeature(X3)\n",
    "y3 = df[2][:]\n",
    "y3 = np.array(y3).reshape(-1,1)\n",
    "print(X3.shape)\n",
    "print(y3.shape)"
   ]
  },
  {
   "cell_type": "code",
   "execution_count": 21,
   "metadata": {},
   "outputs": [
    {
     "name": "stderr",
     "output_type": "stream",
     "text": [
      "/home/bruno/anaconda3/lib/python3.6/site-packages/ipykernel_launcher.py:39: RuntimeWarning: invalid value encountered in true_divide\n",
      "/home/bruno/anaconda3/lib/python3.6/site-packages/ipykernel_launcher.py:7: RuntimeWarning: divide by zero encountered in log\n",
      "  import sys\n",
      "/home/bruno/anaconda3/lib/python3.6/site-packages/ipykernel_launcher.py:2: RuntimeWarning: overflow encountered in exp\n",
      "  \n",
      "/home/bruno/anaconda3/lib/python3.6/site-packages/ipykernel_launcher.py:7: RuntimeWarning: divide by zero encountered in log\n",
      "  import sys\n"
     ]
    },
    {
     "data": {
      "image/png": "[encoded data removed]",
      "text/plain": [
       "<Figure size 432x288 with 1 Axes>"
      ]
     },
     "metadata": {},
     "output_type": "display_data"
    }
   ],
   "source": [
    "w3 = trainNorm(X3,y3)\n",
    "plotDataset(X3,y3)\n",
    "plotBoundary(X3,w3)"
   ]
  },
  {
   "cell_type": "code",
   "execution_count": 22,
   "metadata": {},
   "outputs": [
    {
     "name": "stdout",
     "output_type": "stream",
     "text": [
      "Taxa de Erros:  0.0\n"
     ]
    }
   ],
   "source": [
    "TaxaAcertos3 = accuracyRate(w3.reshape(-1,1),X3,y3)\n",
    "print(\"Taxa de Erros: \", (1-TaxaAcertos3))"
   ]
  },
  {
   "cell_type": "markdown",
   "metadata": {},
   "source": [
    "# 2. Conjunto de dados #2\n",
    "### Sem regularização\n",
    "\n",
    "O segundo conjunto de dados que usaremos, disponibilizado no arquivo `data2.txt`, relaciona os resultados de dois testes realizados em microchips, bem como a decisão se o microchip passou ou não no controle de qualidade.\n",
    "\n",
    "1. Treine um classificador por regressão logística sem regularização e trace um gráfico mostrando o conjunto de dados e as regiões de decisão. Reporte também a taxa de erro (= # de classificações erradas / tamanho do conjunto).\n",
    "\n",
    "2. Repita o item anterior adicionando atributos polinomiais, incluindo termos cruzados (até no máximo grau 6).\n",
    "\n",
    "3. Adicione regularização no treinamento, ajuste o parâmetro de regularização e verifique qualitativamente a variação das regiões de decisão, bem como da taxa de acerto."
   ]
  },
  {
   "cell_type": "code",
   "execution_count": 23,
   "metadata": {},
   "outputs": [
    {
     "data": {
      "text/html": [
       "<div>\n",
       "<style scoped>\n",
       "    .dataframe tbody tr th:only-of-type {\n",
       "        vertical-align: middle;\n",
       "    }\n",
       "\n",
       "    .dataframe tbody tr th {\n",
       "        vertical-align: top;\n",
       "    }\n",
       "\n",
       "    .dataframe thead th {\n",
       "        text-align: right;\n",
       "    }\n",
       "</style>\n",
       "<table border=\"1\" class=\"dataframe\">\n",
       "  <thead>\n",
       "    <tr style=\"text-align: right;\">\n",
       "      <th></th>\n",
       "      <th>0</th>\n",
       "      <th>1</th>\n",
       "      <th>2</th>\n",
       "    </tr>\n",
       "  </thead>\n",
       "  <tbody>\n",
       "    <tr>\n",
       "      <th>0</th>\n",
       "      <td>0.051267</td>\n",
       "      <td>0.69956</td>\n",
       "      <td>1</td>\n",
       "    </tr>\n",
       "    <tr>\n",
       "      <th>1</th>\n",
       "      <td>-0.092742</td>\n",
       "      <td>0.68494</td>\n",
       "      <td>1</td>\n",
       "    </tr>\n",
       "    <tr>\n",
       "      <th>2</th>\n",
       "      <td>-0.213710</td>\n",
       "      <td>0.69225</td>\n",
       "      <td>1</td>\n",
       "    </tr>\n",
       "  </tbody>\n",
       "</table>\n",
       "</div>"
      ],
      "text/plain": [
       "          0        1  2\n",
       "0  0.051267  0.69956  1\n",
       "1 -0.092742  0.68494  1\n",
       "2 -0.213710  0.69225  1"
      ]
     },
     "execution_count": 23,
     "metadata": {},
     "output_type": "execute_result"
    }
   ],
   "source": [
    "df2 = pd.read_csv(\"data2.txt\", header=None)\n",
    "df2.head(3)"
   ]
  },
  {
   "cell_type": "code",
   "execution_count": 24,
   "metadata": {},
   "outputs": [],
   "source": [
    "def mapFeature(X):\n",
    "    ### Define as modificações da matriz de atributos (adiciona a coluna de uns, nesse caso)\n",
    "    X_hat = np.column_stack((X,))\n",
    "    X_ext = np.ones([X_hat.shape[0],X_hat.shape[1]+1]) \n",
    "    X_ext[:,1:] = X_hat\n",
    "    return X_ext"
   ]
  },
  {
   "cell_type": "code",
   "execution_count": 25,
   "metadata": {},
   "outputs": [
    {
     "name": "stdout",
     "output_type": "stream",
     "text": [
      "(118, 3)\n",
      "(118, 1)\n"
     ]
    }
   ],
   "source": [
    "X = np.array(df2[[0,1]][:])\n",
    "#X = addOnesColumn(X)\n",
    "X = mapFeature(X)\n",
    "y = df2[2][:]\n",
    "y = np.array(y).reshape(-1,1)\n",
    "print(X.shape)\n",
    "print(y.shape)"
   ]
  },
  {
   "cell_type": "code",
   "execution_count": 26,
   "metadata": {},
   "outputs": [
    {
     "data": {
      "image/png": "[encoded data removed]",
      "text/plain": [
       "<Figure size 432x288 with 1 Axes>"
      ]
     },
     "metadata": {},
     "output_type": "display_data"
    }
   ],
   "source": [
    "w = train(X,y).reshape(-1,1)\n",
    "plotDataset(X,y)\n",
    "plotBoundary(X,w)"
   ]
  },
  {
   "cell_type": "code",
   "execution_count": 27,
   "metadata": {},
   "outputs": [
    {
     "name": "stdout",
     "output_type": "stream",
     "text": [
      "Taxa de Erros:  0.4491525423728814\n"
     ]
    }
   ],
   "source": [
    "TaxaAcertos = accuracyRate(w.reshape(-1,1),X,y)\n",
    "print(\"Taxa de Erros: \", (1-TaxaAcertos))"
   ]
  },
  {
   "cell_type": "markdown",
   "metadata": {},
   "source": [
    "# 2. Conjunto de dados #2\n",
    "### Mais atributos \n",
    "### Sem regularização"
   ]
  },
  {
   "cell_type": "code",
   "execution_count": 28,
   "metadata": {},
   "outputs": [],
   "source": [
    "def mapFeature(X):\n",
    "    ### Define as modificações da matriz de atributos (adiciona a coluna de uns, nesse caso)\n",
    "    X_hat = np.column_stack((X,X**2))\n",
    "    X_ext = np.ones([X_hat.shape[0],X_hat.shape[1]+1]) \n",
    "    X_ext[:,1:] = X_hat\n",
    "    return X_ext"
   ]
  },
  {
   "cell_type": "code",
   "execution_count": 29,
   "metadata": {},
   "outputs": [
    {
     "name": "stdout",
     "output_type": "stream",
     "text": [
      "(118, 5)\n",
      "(118, 1)\n",
      "Taxa de Erros:  0.19491525423728817\n"
     ]
    },
    {
     "data": {
      "image/png": "[encoded data removed]",
      "text/plain": [
       "<Figure size 432x288 with 1 Axes>"
      ]
     },
     "metadata": {},
     "output_type": "display_data"
    }
   ],
   "source": [
    "X = np.array(df2[[0,1]][:])\n",
    "#X = addOnesColumn(X)\n",
    "X = mapFeature(X)\n",
    "y = df2[2][:]\n",
    "y = np.array(y).reshape(-1,1)\n",
    "print(X.shape)\n",
    "print(y.shape)\n",
    "\n",
    "w = train(X,y).reshape(-1,1)\n",
    "plotDataset(X,y)\n",
    "plotBoundary(X,w)\n",
    "\n",
    "TaxaAcertos = accuracyRate(w.reshape(-1,1),X,y)\n",
    "print(\"Taxa de Erros: \", (1-TaxaAcertos))"
   ]
  },
  {
   "cell_type": "markdown",
   "metadata": {},
   "source": [
    "# 2. Conjunto de dados #2\n",
    "### Sem Regularização\n",
    "### Com elementos cruzados"
   ]
  },
  {
   "cell_type": "code",
   "execution_count": 30,
   "metadata": {},
   "outputs": [],
   "source": [
    "def mapFeature(X):\n",
    "    ### Define as modificações da matriz de atributos (adiciona a coluna de uns, nesse caso)\n",
    "    X_hat = np.column_stack((X,X**2, X[:,0]*X[:,1]))\n",
    "    X_ext = np.ones([X_hat.shape[0],X_hat.shape[1]+1]) \n",
    "    X_ext[:,1:] = X_hat\n",
    "    return X_ext"
   ]
  },
  {
   "cell_type": "code",
   "execution_count": 31,
   "metadata": {},
   "outputs": [
    {
     "name": "stdout",
     "output_type": "stream",
     "text": [
      "(118, 6)\n",
      "(118, 1)\n",
      "Taxa de Erros:  0.14406779661016944\n"
     ]
    },
    {
     "data": {
      "image/png": "[encoded data removed]",
      "text/plain": [
       "<Figure size 432x288 with 1 Axes>"
      ]
     },
     "metadata": {},
     "output_type": "display_data"
    }
   ],
   "source": [
    "X = np.array(df2[[0,1]][:])\n",
    "#X = addOnesColumn(X)\n",
    "X = mapFeature(X)\n",
    "y = df2[2][:]\n",
    "y = np.array(y).reshape(-1,1)\n",
    "print(X.shape)\n",
    "print(y.shape)\n",
    "\n",
    "w = train(X,y).reshape(-1,1)\n",
    "plotDataset(X,y)\n",
    "plotBoundary(X,w)\n",
    "\n",
    "TaxaAcertos = accuracyRate(w.reshape(-1,1),X,y)\n",
    "print(\"Taxa de Erros: \", (1-TaxaAcertos))"
   ]
  },
  {
   "cell_type": "markdown",
   "metadata": {},
   "source": [
    "# 2. Conjunto de dados #2\n",
    "### Sem Regularização\n",
    "### Com elementos cruzados até polinômio de ordem 6"
   ]
  },
  {
   "cell_type": "code",
   "execution_count": 32,
   "metadata": {},
   "outputs": [],
   "source": [
    "def mapFeature(X):\n",
    "    ### Define as modificações da matriz de atributos (adiciona a coluna de uns, nesse caso)\n",
    "    X_hat = np.column_stack((X,X**2, X[:,0]*X[:,1], X**3, (X[:,0]*X[:,1])**2, X**4, (X[:,0]*X[:,1])**4, X**5,\\\n",
    "                             (X[:,0]*X[:,1])**5,X**6, (X[:,0]*X[:,1])**6,))\n",
    "    X_ext = np.ones([X_hat.shape[0],X_hat.shape[1]+1]) \n",
    "    X_ext[:,1:] = X_hat\n",
    "    return X_ext"
   ]
  },
  {
   "cell_type": "code",
   "execution_count": 33,
   "metadata": {},
   "outputs": [
    {
     "name": "stdout",
     "output_type": "stream",
     "text": [
      "(118, 18)\n",
      "(118, 1)\n"
     ]
    },
    {
     "name": "stderr",
     "output_type": "stream",
     "text": [
      "/home/bruno/anaconda3/lib/python3.6/site-packages/ipykernel_launcher.py:2: RuntimeWarning: overflow encountered in exp\n",
      "  \n"
     ]
    },
    {
     "name": "stdout",
     "output_type": "stream",
     "text": [
      "Taxa de Erros:  0.11864406779661019\n"
     ]
    },
    {
     "data": {
      "image/png": "[encoded data removed]",
      "text/plain": [
       "<Figure size 432x288 with 1 Axes>"
      ]
     },
     "metadata": {},
     "output_type": "display_data"
    }
   ],
   "source": [
    "X = np.array(df2[[0,1]][:])\n",
    "X = mapFeature(X)\n",
    "y = df2[2][:]\n",
    "y = np.array(y).reshape(-1,1)\n",
    "print(X.shape)\n",
    "print(y.shape)\n",
    "\n",
    "w = train(X,y).reshape(-1,1)\n",
    "plotDataset(X,y)\n",
    "plotBoundary(X,w)\n",
    "\n",
    "TaxaAcertos = accuracyRate(w.reshape(-1,1),X,y)\n",
    "print(\"Taxa de Erros: \", (1-TaxaAcertos))"
   ]
  },
  {
   "cell_type": "markdown",
   "metadata": {},
   "source": [
    "# 2. Conjunto de dados #2\n",
    "### Com Regularização\n",
    "### Com elementos cruzados até polinômio de ordem 6"
   ]
  },
  {
   "cell_type": "code",
   "execution_count": 34,
   "metadata": {},
   "outputs": [],
   "source": [
    "def trainReg2(X,y,lamb):\n",
    "    means = X.mean(axis=0)\n",
    "    sigmas = X.std(axis=0)\n",
    "    X_hat = (X-means)/sigmas\n",
    "    X_hat[:,0] = X[:,0]\n",
    "\n",
    "    w = opt.minimize(fun=cost, x0=np.zeros(X.shape[1]), jac=gradient, args=(X_hat,y,lamb)).x\n",
    "    w_hat = w.copy()\n",
    "    w_hat[1:] = w[1:]/sigmas[1:];\n",
    "    w_hat[0] = w[0]- (w[1:]/sigmas[1:]).dot(means[1:])\n",
    "    return w_hat\n",
    "\n",
    "def cost(w, X, y, lambd):\n",
    "    n = X.shape[1]\n",
    "    L = np.diag(np.concatenate((np.zeros(1),np.ones(n-1))))\n",
    "    wr = w.reshape(X.shape[1],1)\n",
    "    y_hat = σ(X@wr)\n",
    "    J = -((y.T)@(np.log(y_hat))+((1-y).T)@(np.log(1-y_hat)))/len(y) + (lambd/(2*len(y)))*wr.T@L@wr\n",
    "    return J\n",
    "\n",
    "def gradient(w, X, y, lambd):\n",
    "    n = X.shape[1]\n",
    "    L = np.diag(np.concatenate((np.zeros(1),np.ones(n-1))))\n",
    "    wr = w.reshape(X.shape[1],1)    \n",
    "    grad = (X.T)@(σ(X@wr)-y)/len(y) + (lambd/len(y))*L@wr\n",
    "    \n",
    "    return grad.flatten()\n",
    "\n",
    "# funções gradient e cost retiradas da solução do professor Danilo para o exercício 2"
   ]
  },
  {
   "cell_type": "code",
   "execution_count": 35,
   "metadata": {},
   "outputs": [
    {
     "name": "stdout",
     "output_type": "stream",
     "text": [
      "(118, 18)\n",
      "(118, 1)\n"
     ]
    }
   ],
   "source": [
    "X = np.array(df2[[0,1]][:])\n",
    "X = mapFeature(X)\n",
    "y = df2[2][:]\n",
    "y = np.array(y).reshape(-1,1)\n",
    "print(X.shape)\n",
    "print(y.shape)"
   ]
  },
  {
   "cell_type": "code",
   "execution_count": 36,
   "metadata": {},
   "outputs": [
    {
     "name": "stderr",
     "output_type": "stream",
     "text": [
      "/home/bruno/anaconda3/lib/python3.6/site-packages/ipykernel_launcher.py:4: RuntimeWarning: invalid value encountered in true_divide\n",
      "  after removing the cwd from sys.path.\n"
     ]
    },
    {
     "data": {
      "text/plain": [
       "[<matplotlib.lines.Line2D at 0x7facece177f0>]"
      ]
     },
     "execution_count": 36,
     "metadata": {},
     "output_type": "execute_result"
    },
    {
     "data": {
      "image/png": "[encoded data removed]",
      "text/plain": [
       "<Figure size 432x288 with 1 Axes>"
      ]
     },
     "metadata": {},
     "output_type": "display_data"
    }
   ],
   "source": [
    "lamb_vec = np.arange(0,10,0.1)\n",
    "save_erro = []\n",
    "for lambd in lamb_vec:\n",
    "    w = trainReg2(X,y,lambd).reshape(-1,1)\n",
    "    TaxaAcer = accuracyRate(w.reshape(-1,1),X,y)\n",
    "    erro = 1 - TaxaAcer\n",
    "    save_erro.append(erro)\n",
    "plt.plot(save_erro)    \n"
   ]
  },
  {
   "cell_type": "code",
   "execution_count": 37,
   "metadata": {},
   "outputs": [
    {
     "name": "stderr",
     "output_type": "stream",
     "text": [
      "/home/bruno/anaconda3/lib/python3.6/site-packages/ipykernel_launcher.py:4: RuntimeWarning: invalid value encountered in true_divide\n",
      "  after removing the cwd from sys.path.\n"
     ]
    },
    {
     "data": {
      "text/plain": [
       "array([[3.4633213 ],\n",
       "       [1.26512511],\n",
       "       [4.08347518]])"
      ]
     },
     "execution_count": 37,
     "metadata": {},
     "output_type": "execute_result"
    }
   ],
   "source": [
    "lambd = 0.1\n",
    "w = trainReg2(X,y,lambd).reshape(-1,1)\n",
    "w[:3]"
   ]
  },
  {
   "cell_type": "code",
   "execution_count": 38,
   "metadata": {},
   "outputs": [
    {
     "data": {
      "image/png": "[encoded data removed]",
      "text/plain": [
       "<Figure size 432x288 with 1 Axes>"
      ]
     },
     "metadata": {},
     "output_type": "display_data"
    }
   ],
   "source": [
    "plotDataset(X,y)\n",
    "plotBoundary(X,w)"
   ]
  },
  {
   "cell_type": "code",
   "execution_count": 39,
   "metadata": {},
   "outputs": [
    {
     "name": "stdout",
     "output_type": "stream",
     "text": [
      "Taxa de Erros:  0.15254237288135597\n"
     ]
    }
   ],
   "source": [
    "TaxaAcertos = accuracyRate(w.reshape(-1,1),X,y)\n",
    "print(\"Taxa de Erros: \", (1-TaxaAcertos))"
   ]
  },
  {
   "cell_type": "markdown",
   "metadata": {},
   "source": [
    "# 3. Conjunto de dados #3\n",
    "\n",
    "O terceiro conjunto de dados que usaremos pode ser encontrado aqui:\n",
    "\n",
    "https://www.kaggle.com/uciml/iris/data\n",
    "\n",
    "O objetivo é implementar um classificador para classificar entre três tipos de plantas. Implemente apenas regressão logística sem regularização com os atributos originais, e reporte a taxa de erro."
   ]
  },
  {
   "cell_type": "code",
   "execution_count": 40,
   "metadata": {},
   "outputs": [
    {
     "data": {
      "text/html": [
       "<div>\n",
       "<style scoped>\n",
       "    .dataframe tbody tr th:only-of-type {\n",
       "        vertical-align: middle;\n",
       "    }\n",
       "\n",
       "    .dataframe tbody tr th {\n",
       "        vertical-align: top;\n",
       "    }\n",
       "\n",
       "    .dataframe thead th {\n",
       "        text-align: right;\n",
       "    }\n",
       "</style>\n",
       "<table border=\"1\" class=\"dataframe\">\n",
       "  <thead>\n",
       "    <tr style=\"text-align: right;\">\n",
       "      <th></th>\n",
       "      <th>Id</th>\n",
       "      <th>SepalLengthCm</th>\n",
       "      <th>SepalWidthCm</th>\n",
       "      <th>PetalLengthCm</th>\n",
       "      <th>PetalWidthCm</th>\n",
       "      <th>Species</th>\n",
       "    </tr>\n",
       "  </thead>\n",
       "  <tbody>\n",
       "    <tr>\n",
       "      <th>0</th>\n",
       "      <td>1</td>\n",
       "      <td>5.1</td>\n",
       "      <td>3.5</td>\n",
       "      <td>1.4</td>\n",
       "      <td>0.2</td>\n",
       "      <td>Iris-setosa</td>\n",
       "    </tr>\n",
       "    <tr>\n",
       "      <th>1</th>\n",
       "      <td>2</td>\n",
       "      <td>4.9</td>\n",
       "      <td>3.0</td>\n",
       "      <td>1.4</td>\n",
       "      <td>0.2</td>\n",
       "      <td>Iris-setosa</td>\n",
       "    </tr>\n",
       "    <tr>\n",
       "      <th>2</th>\n",
       "      <td>3</td>\n",
       "      <td>4.7</td>\n",
       "      <td>3.2</td>\n",
       "      <td>1.3</td>\n",
       "      <td>0.2</td>\n",
       "      <td>Iris-setosa</td>\n",
       "    </tr>\n",
       "    <tr>\n",
       "      <th>3</th>\n",
       "      <td>4</td>\n",
       "      <td>4.6</td>\n",
       "      <td>3.1</td>\n",
       "      <td>1.5</td>\n",
       "      <td>0.2</td>\n",
       "      <td>Iris-setosa</td>\n",
       "    </tr>\n",
       "    <tr>\n",
       "      <th>4</th>\n",
       "      <td>5</td>\n",
       "      <td>5.0</td>\n",
       "      <td>3.6</td>\n",
       "      <td>1.4</td>\n",
       "      <td>0.2</td>\n",
       "      <td>Iris-setosa</td>\n",
       "    </tr>\n",
       "  </tbody>\n",
       "</table>\n",
       "</div>"
      ],
      "text/plain": [
       "   Id  SepalLengthCm  SepalWidthCm  PetalLengthCm  PetalWidthCm      Species\n",
       "0   1            5.1           3.5            1.4           0.2  Iris-setosa\n",
       "1   2            4.9           3.0            1.4           0.2  Iris-setosa\n",
       "2   3            4.7           3.2            1.3           0.2  Iris-setosa\n",
       "3   4            4.6           3.1            1.5           0.2  Iris-setosa\n",
       "4   5            5.0           3.6            1.4           0.2  Iris-setosa"
      ]
     },
     "execution_count": 40,
     "metadata": {},
     "output_type": "execute_result"
    }
   ],
   "source": [
    "df3 = pd.read_csv(\"Iris.csv\")\n",
    "df3.head()"
   ]
  },
  {
   "cell_type": "code",
   "execution_count": 41,
   "metadata": {},
   "outputs": [],
   "source": [
    "def mapFeature(X):\n",
    "    X_hat = np.column_stack((X,))\n",
    "    X_ext = np.ones([X_hat.shape[0],X_hat.shape[1]+1]) \n",
    "    X_ext[:,1:] = X_hat\n",
    "    return X_ext"
   ]
  },
  {
   "cell_type": "code",
   "execution_count": 42,
   "metadata": {},
   "outputs": [
    {
     "name": "stdout",
     "output_type": "stream",
     "text": [
      "(150, 4)\n",
      "(150, 1)\n"
     ]
    }
   ],
   "source": [
    "#X = np.array(df3)[:,[3,4]].astype('float')\n",
    "Xdf3 = df3[['SepalLengthCm', 'SepalWidthCm','PetalLengthCm', 'PetalWidthCm']].values\n",
    "X = mapFeature(Xdf3)\n",
    "\n",
    "y = df3[['Species']][:]\n",
    "y = np.array(y).reshape(-1,1)\n",
    "print(Xdf3.shape)\n",
    "print(y.shape)"
   ]
  },
  {
   "cell_type": "code",
   "execution_count": 43,
   "metadata": {},
   "outputs": [
    {
     "name": "stdout",
     "output_type": "stream",
     "text": [
      "(150, 1)\n",
      "(150, 1)\n",
      "(150, 1)\n"
     ]
    }
   ],
   "source": [
    "# Separando nas diferentes espécies\n",
    "y0 = (df3[['Species']] == 'Iris-setosa').values.reshape(-1,1)\n",
    "y1 = (df3[['Species']] == 'Iris-versicolor').values.reshape(-1,1)\n",
    "y2 = (df3[['Species']] == 'Iris-virginica').values.reshape(-1,1)\n",
    "print(y0.shape)\n",
    "print(y1.shape)\n",
    "print(y2.shape)"
   ]
  },
  {
   "cell_type": "code",
   "execution_count": 57,
   "metadata": {},
   "outputs": [
    {
     "name": "stdout",
     "output_type": "stream",
     "text": [
      "Erro w0 de: 0.0 %\n",
      "Erro w1 de: 0.26 %\n",
      "Erro w2 de: 0.020000000000000018 %\n"
     ]
    },
    {
     "name": "stderr",
     "output_type": "stream",
     "text": [
      "/home/bruno/anaconda3/lib/python3.6/site-packages/ipykernel_launcher.py:4: RuntimeWarning: invalid value encountered in true_divide\n",
      "  after removing the cwd from sys.path.\n"
     ]
    }
   ],
   "source": [
    "w0 = trainReg2(X,y0,0.1).reshape(-1,1)\n",
    "w1 = trainReg2(X,y1,0.1).reshape(-1,1)\n",
    "w2 = trainReg2(X,y2,0.1).reshape(-1,1)\n",
    "print(\"Erro w0 de:\",1-accuracyRate(w0,X,y0),\"%\")\n",
    "print(\"Erro w1 de:\",1-accuracyRate(w1,X,y1),\"%\")\n",
    "print(\"Erro w2 de:\",1-accuracyRate(w2,X,y2),\"%\")"
   ]
  },
  {
   "cell_type": "code",
   "execution_count": 58,
   "metadata": {},
   "outputs": [],
   "source": [
    "y0_hat = predict(X,w0)\n",
    "y1_hat = predict(X,w1)\n",
    "y2_hat = predict(X,w2)"
   ]
  },
  {
   "cell_type": "code",
   "execution_count": null,
   "metadata": {},
   "outputs": [],
   "source": []
  },
  {
   "cell_type": "markdown",
   "metadata": {},
   "source": [
    "# 4. (OPCIONAL) Conjunto de dados #4\n",
    "\n",
    "O último conjunto de dados, disponibilizado no arquivo `modulations.csv`, consiste de atributos extraídos de sinais de telecomunicações que utilizam dois tipos de modulação digital (PSK=0 ou FSK=1). O objetivo é classificar a modulação usada.\n",
    "\n",
    "Separe 20% dos dados como conjunto de teste e tente minimizar a taxa de erro neste conjunto, usando regressão logística."
   ]
  }
 ],
 "metadata": {
  "kernelspec": {
   "display_name": "Python 3",
   "language": "python",
   "name": "python3"
  },
  "language_info": {
   "codemirror_mode": {
    "name": "ipython",
    "version": 3
   },
   "file_extension": ".py",
   "mimetype": "text/x-python",
   "name": "python",
   "nbconvert_exporter": "python",
   "pygments_lexer": "ipython3",
   "version": "3.6.4"
  }
 },
 "nbformat": 4,
 "nbformat_minor": 2
}
