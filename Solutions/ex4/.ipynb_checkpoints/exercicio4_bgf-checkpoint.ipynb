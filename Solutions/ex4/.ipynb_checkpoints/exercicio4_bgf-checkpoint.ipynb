{
 "cells": [
  {
   "cell_type": "markdown",
   "metadata": {},
   "source": [
    "Universidade Federal de Santa Catarina<br>\n",
    "Departamento de Engenharia Elétrica e Eletrônica<br>\n",
    "EEL7514/EEL7513 - Introdução ao Aprendizado de Máquina\n",
    "$\\newcommand{\\bX}{\\mathbf{X}}$\n",
    "$\\newcommand{\\bw}{\\mathbf{w}}$\n",
    "$\\newcommand{\\by}{\\mathbf{y}}$\n",
    "$\\newcommand{\\bx}{\\mathbf{x}}$\n",
    "$\\newcommand{\\bW}{\\mathbf{W}}$\n",
    "$\\newcommand{\\bb}{\\mathbf{b}}$\n",
    "$\\newcommand{\\ba}{\\mathbf{a}}$\n",
    "$\\newcommand{\\bz}{\\mathbf{z}}$\n",
    "$\\newcommand{\\mat}[1]{\\begin{bmatrix} #1 \\end{bmatrix}}$\n",
    "\n",
    "\n",
    "# Exercício 4: Redes Neurais\n"
   ]
  },
  {
   "cell_type": "markdown",
   "metadata": {},
   "source": [
    "# 1. Obtendo o conjunto de dados\n",
    "\n",
    "Usaremos um conjunto de dados sintético produzido facilmente pela biblioteca `scikit-learn`. Os dados podem ser interpretados como uma versão ruidosa da função XOR."
   ]
  },
  {
   "cell_type": "code",
   "execution_count": 1,
   "metadata": {
    "scrolled": false
   },
   "outputs": [],
   "source": [
    "import numpy as np\n",
    "import pandas as pd\n",
    "import matplotlib.pyplot as plt\n",
    "import scipy.optimize as opt\n",
    "import sklearn.datasets\n",
    "import sklearn.metrics as skm\n",
    "%matplotlib inline"
   ]
  },
  {
   "cell_type": "code",
   "execution_count": 2,
   "metadata": {},
   "outputs": [],
   "source": [
    "def σ(z):\n",
    "    z = np.clip(z,-500,500)\n",
    "    return 1/(1+np.exp(-z))\n",
    "\n",
    "def plotDataset(X, y):\n",
    "    ### Plota todos os pontos contidos no dataset \n",
    "    y = y.flatten()\n",
    "    plt.plot(X[y==0,0],X[y==0,1],'bo',X[y==1,0],X[y==1,1],'rx')\n",
    "\n",
    "def plotBoundary(X, w, N=100):\n",
    "    ### Plota a região de decisão do dataset\n",
    "    x1 = np.linspace(X[:,0].min(), X[:,0].max(), N)\n",
    "    x2 = np.linspace(X[:,1].min(), X[:,1].max(), N)\n",
    "    xx1, xx2 = np.meshgrid(x1, x2)\n",
    "    X = np.column_stack((xx1.reshape(-1),xx2.reshape(-1)))\n",
    "    #X = mapFeature(X)\n",
    "    y_hat = predict_class(w,X).reshape(xx1.shape)\n",
    "    y_hat = (y_hat>=0.5)*2-1\n",
    "    plt.contourf(xx1,xx2,y_hat,cmap=plt.cm.bwr,vmin=-5,vmax=5)"
   ]
  },
  {
   "cell_type": "markdown",
   "metadata": {},
   "source": [
    "# 2. Estrutura do modelo\n",
    "\n",
    "As funções de ativação, tanto da camada de saída quanto da camada oculta, devem ser do tipo sigmóide, $g(z) = \\sigma(z)$.\n",
    "\n",
    "Como consequência da sua estrutura, o modelo possui um total de 9 parâmetros:\n",
    "- $\\bW^{[1]} = \\mat{{\\bw_1^{[1]}}^T \\\\ {\\bw_2^{[1]}}^T} = \\mat{w_{1,1}^{[1]} & w_{1,2}^{[1]} \\\\ w_{2,1}^{[1]} & w_{2,2}^{[1]}}$\n",
    "- $\\bb^{[1]} = \\mat{b_1^{[1]} \\\\ b_2^{[1]}}$\n",
    "- $\\bW^{[2]} = \\mat{{\\bw_1^{[2]}}^T} = \\mat{w_{1,1}^{[2]} & w_{1,2}^{[2]}}$\n",
    "- $\\bb^{[2]} = \\mat{b_1^{[2]}}$\n",
    "\n",
    "Internamente, estes parâmetros devem estar representados como um único vetor 1-D, denotado por $\\theta$:\n",
    "$$\n",
    "\\theta = (w^{[1]}_{1,1},w^{[1]}_{1,2},w^{[1]}_{2,1},w^{[1]}_{2,2},b^{[1]}_{1},b^{[1]}_{2},w^{[2]}_{1,1},w^{[2]}_{1,2},b^{[2]}_{1})\n",
    "$$"
   ]
  },
  {
   "cell_type": "markdown",
   "metadata": {},
   "source": [
    "**Obs:** Ao contrário dos exercícios anteriores, aqui a matrix $\\bX$ deve conter apenas os atributos originais, pois o termo de _bias_ ($\\bb$) é representado separadamente no modelo da rede neural."
   ]
  },
  {
   "cell_type": "markdown",
   "metadata": {},
   "source": [
    "# 3. Implementando o modelo\n",
    "\n",
    "O treinamento da rede neural, implementado pela função `train` fornecida abaixo, envolve os seguintes passos:\n",
    "\n",
    "1. Inicialização dos parâmetros (vetor $\\theta$)\n",
    "2. Minimização da função custo\n",
    "\n",
    "Note que, para este exercício, não é necessário normalizar os atributos.\n",
    "\n",
    "A principal diferença para os exercícios anteriores é a opção `jac=True` na função `minimize`, que indica que o gradiente será calculado na própria função custo (como segundo objeto retornado) ao invés de uma função separada. Isto é importante para reduzir a complexidade, pois todos os passos necessários para calcular o custo são também realizados no cálculo do gradiente, e assim podem ser reaproveitados.\n",
    "\n",
    "Portanto, a parte central da implementação está na função custo, sendo a etapa mais difícil o cálculo do gradiente, a qual é feita pelo método *backpropagation*. Este método consiste essencialmente da aplicação repetida da regra da cadeia do cálculo diferencial.\n",
    "\n",
    "Para facilitar a implementação, neste exercício, não é necessário _vetorizar_ o código, isto é, você pode utilizar um laço sobre as amostras do conjunto de treinamento (`for i in range(m):`) para calcular tanto o custo quanto o gradiente.\n",
    "\n",
    "**Dica:** inicialize $\\bw_1^{[1]}$ e $\\bw_2^{[1]}$ com valores _diferentes_, caso contrário seus valores tenderão a se manter idênticos durante todo o treinamento."
   ]
  },
  {
   "cell_type": "code",
   "execution_count": 3,
   "metadata": {},
   "outputs": [],
   "source": [
    "def train(X, y):\n",
    "    theta = initialize_parameters()\n",
    "    theta = opt.minimize(fun=cost, x0=theta, jac=True, args=(X,y), options={'maxiter': 500}).x\n",
    "    return theta\n",
    "\n",
    "def merge_parameters(W1, b1, W2, b2):\n",
    "    merged = np.concatenate((W1[0].reshape(-1,1).T, W1[1].reshape(-1,1).T, b1.T, W2.T, b2.T),axis=1)\n",
    "    return merged\n",
    "\n",
    "def split_parameters(theta):\n",
    "    theta = theta.reshape(-1,1)\n",
    "    W1 = theta[:4]\n",
    "    b1 = theta[4:6]\n",
    "    W2 = theta[6:8]\n",
    "    b2 = theta[-1:]\n",
    "    W1 = np.array(W1).reshape(2,2)\n",
    "    b1 = np.array(b1).reshape(2,1)\n",
    "    W2 = np.array(W2).reshape(2,1)\n",
    "    b2 = np.array(b2).reshape(1,1)\n",
    "    return W1, b1, W2, b2\n",
    "\n",
    "def initialize_parameters():\n",
    "    W1 = np.random.rand(2,2)\n",
    "    W2 = np.random.rand(2,1)\n",
    "    b1 = np.random.rand(2,1)\n",
    "    b2 = np.random.rand(1,1)\n",
    "    return merge_parameters(W1, b1, W2, b2)\n",
    "\n",
    "def cost(theta, X, y):\n",
    "    m = X.shape[0]\n",
    "    J = 0\n",
    "    dJdW1_11 = 0\n",
    "    dJdW1_12 = 0\n",
    "    dJdW1_21 = 0\n",
    "    dJdW1_22 = 0\n",
    "    dJdB1_1  = 0\n",
    "    dJdB1_2  = 0\n",
    "    dJdW2_11 = 0\n",
    "    dJdW2_21 = 0\n",
    "    dJdB2_1  = 0\n",
    "    dJdW1 = 0\n",
    "    dJdB1 = 0\n",
    "    dJdW2 = 0\n",
    "    dJdB2 = 0\n",
    "    # Split theta into W1, b1, W2, b2\n",
    "    W1, b1, W2, b2 = split_parameters(theta)\n",
    "    \n",
    "    for i in range(m):    \n",
    "        # Forward propagation: compute z1, a1, z2, a2\n",
    "        a0 = X[i].reshape(-1,1) # reshape to not bug\n",
    "        z1 = W1 @ a0 + b1\n",
    "        a1 = σ(z1)\n",
    "        z2 = W2.T @ a1 + b2\n",
    "        a2 = σ(z2)\n",
    "        y_hat = a2[0][0]\n",
    "        # Cost: compute J\n",
    "        yi = y[i][0]\n",
    "        J += -yi*np.log(y_hat)-(1 - yi+1e-20)*np.log(1 - y_hat+1e-20)\n",
    "\n",
    "        # Back propagation: compute dJ/dz2, dJ/dW2, dJ/db2, dJ/da1, dJ/dz1, dJ/dW1, dJ/db1\n",
    "        dJdW1_11 += (y_hat - y[i])*W1[0][1]*a1[0]*(1-a1[0])*a0[0]\n",
    "        dJdW1_12 += (y_hat - y[i])*a1[0]\n",
    "        dJdW1_21 += (y_hat - y[i])*W1[0][1]*a1[0]*(1-a1[0])*a0[1]\n",
    "        dJdW1_22 += (y_hat - y[i])*a1[1]\n",
    "        dJdB1_1  += (y_hat - y[i])*W1[0][1]*a1[0]*(1-a1[0])\n",
    "        dJdB1_2  += (y_hat - y[i])\n",
    "        dJdW2_11 += (y_hat - y[i])*W1[1][1]*a1[1]*(1-a1[1])*a0[0]\n",
    "        dJdW2_21 += (y_hat - y[i])*W1[1][1]*a1[1]*(1-a1[1])*a0[1]\n",
    "        dJdB2_1  += (y_hat - y[i])*W1[1][1]*a1[1]*(1-a1[1])\n",
    "    \n",
    "    # Merge dJ/dW1, dJ/db1, dJ/dW2, dJ/db2 into grad = dJ/dtheta\n",
    "    dJdW1 = np.array(([dJdW1_11[0], dJdW1_12[0]], [dJdW1_21[0], dJdW1_22[0]]))\n",
    "    dJdB1 = np.array(([dJdB1_1[0]],[dJdB1_2[0]]))\n",
    "    dJdW2 = np.array(([dJdW2_11[0]],[dJdW2_21[0]]))\n",
    "    dJdB2 = np.array(dJdB2_1).reshape(-1,1) # reshape to not bug\n",
    "    \n",
    "    grad = merge_parameters(dJdW1, dJdB1, dJdW2, dJdB2)*(1/m)\n",
    "    grad = grad[0] #unidmentional array for the optimize\n",
    "    \n",
    "    J = J/m\n",
    "    \n",
    "    return J, grad\n",
    "def predict_class(theta, X):\n",
    "    [W111, W121, B11, W211, W221, B21, W112, W122, B12] = theta\n",
    "    y_pred = []\n",
    "    for i in range(X.shape[0]):\n",
    "        z0 = W111*X[i][0] + W121*X[i][1] + B11\n",
    "        z1 = W211*X[i][0] + W221*X[i][1] + B21\n",
    "        a0 = σ(z0)\n",
    "        a1 = σ(z1)\n",
    "        z2 = W112*a0 + W122*a1 + B12\n",
    "        y_hat = σ(z2)\n",
    "        y_pred.append((y_hat > 0.5).astype(float))\n",
    "    return np.array(y_pred)\n"
   ]
  },
  {
   "cell_type": "markdown",
   "metadata": {},
   "source": [
    "# 4. Predição\n",
    "\n",
    "Avalie a acurácia do modelo no conjunto de treinamento. Você conseguiu obter 100% de acurácia?\n",
    "\n",
    "Experimente alterar o parâmetro `cluster_std` na geração do conjunto de dados para verificar como o modelo se comporta, bem como alterar o número de amostras. Você pode também alterar o número de iterações no treinamento.\n",
    "\n",
    "Note que, se desejar usar as funções plotDataset e plotBoundary, estas devem ser adaptadas ao formato usado para a matrix $\\bX$ e à função de predição do modelo."
   ]
  },
  {
   "cell_type": "code",
   "execution_count": 4,
   "metadata": {},
   "outputs": [
    {
     "data": {
      "text/plain": [
       "[<matplotlib.lines.Line2D at 0x7f75b19464e0>,\n",
       " <matplotlib.lines.Line2D at 0x7f75b1946780>]"
      ]
     },
     "execution_count": 4,
     "metadata": {},
     "output_type": "execute_result"
    },
    {
     "data": {
      "image/png": "[encoded data removed]",
      "text/plain": [
       "<Figure size 432x288 with 1 Axes>"
      ]
     },
     "metadata": {},
     "output_type": "display_data"
    }
   ],
   "source": [
    "m = 400\n",
    "centers = [[0,0],[0,1],[1,1],[1,0]]\n",
    "X,y = sklearn.datasets.make_blobs(n_samples=m, n_features=2, centers=centers, cluster_std=0.05, random_state=0)\n",
    "y = (y % 2 == 0).astype(float)\n",
    "plt.plot(X[y==0,0],X[y==0,1],'bo',X[y==1,0],X[y==1,1],'rx')"
   ]
  },
  {
   "cell_type": "code",
   "execution_count": 5,
   "metadata": {},
   "outputs": [
    {
     "data": {
      "text/plain": [
       "((400, 2), (400, 1))"
      ]
     },
     "execution_count": 5,
     "metadata": {},
     "output_type": "execute_result"
    }
   ],
   "source": [
    "y = y.reshape(-1,1)\n",
    "X.shape, y.shape"
   ]
  },
  {
   "cell_type": "code",
   "execution_count": 6,
   "metadata": {},
   "outputs": [
    {
     "data": {
      "image/png": "[encoded data removed]",
      "text/plain": [
       "<Figure size 432x288 with 1 Axes>"
      ]
     },
     "metadata": {},
     "output_type": "display_data"
    }
   ],
   "source": [
    "theta = train(X,y)\n",
    "y_pred = predict_class(theta, X)\n",
    "plotDataset(X,y)\n",
    "plotBoundary(X,theta)"
   ]
  },
  {
   "cell_type": "code",
   "execution_count": 7,
   "metadata": {},
   "outputs": [
    {
     "data": {
      "text/plain": [
       "60.25"
      ]
     },
     "execution_count": 7,
     "metadata": {},
     "output_type": "execute_result"
    }
   ],
   "source": [
    "skm.accuracy_score(y, y_pred)*100"
   ]
  },
  {
   "cell_type": "code",
   "execution_count": null,
   "metadata": {},
   "outputs": [],
   "source": [
    "# tentei ver com o pessoal da sala pra tentar melhorar e não consegui, perdão"
   ]
  }
 ],
 "metadata": {
  "kernelspec": {
   "display_name": "Python 3",
   "language": "python",
   "name": "python3"
  },
  "language_info": {
   "codemirror_mode": {
    "name": "ipython",
    "version": 3
   },
   "file_extension": ".py",
   "mimetype": "text/x-python",
   "name": "python",
   "nbconvert_exporter": "python",
   "pygments_lexer": "ipython3",
   "version": "3.6.4"
  }
 },
 "nbformat": 4,
 "nbformat_minor": 2
}
