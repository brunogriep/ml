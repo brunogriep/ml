{
 "cells": [
  {
   "cell_type": "markdown",
   "metadata": {},
   "source": [
    "Universidade Federal de Santa Catarina<br>\n",
    "Departamento de Engenharia Elétrica e Eletrônica<br>\n",
    "EEL7514/EEL7513 - Introdução ao Aprendizado de Máquina\n",
    "$\\newcommand{\\bX}{\\mathbf{X}}$\n",
    "$\\newcommand{\\bw}{\\mathbf{w}}$\n",
    "$\\newcommand{\\by}{\\mathbf{y}}$\n",
    "$\\newcommand{\\bx}{\\mathbf{x}}$\n",
    "\n",
    "\n",
    "# Exercício 2: Regressão Linear Múltipla\n",
    "\n",
    "Neste exercício você irá treinar um modelo de regressão linear com múltiplas variáveis, usando tanto a equação normal quanto o método do gradiente, e o usará para fazer predições sobre um conjunto de teste.\n",
    "\n",
    "O exercício resolvido, em formato `.ipynb`, completo com explicações e gráficos integrados, deve ser submetido via moodle até o prazo especificado."
   ]
  },
  {
   "cell_type": "markdown",
   "metadata": {},
   "source": [
    "# 1. Preparação\n",
    "\n",
    "O conjunto de dados que usaremos consiste de dados sobre a venda de casas em King County, USA, entre maio de 2014 e maio de 2015. O objetivo é prever o preço de venda a partir de informações sobre a casa. Baixe o arquivo em\n",
    "\n",
    "http://www.kaggle.com/harlfoxem/housesalesprediction/data\n",
    "\n",
    "descompacte-o e salve-o numa subpasta `data`, i.e., o arquivo estará acessível em `data/kc_house_data.csv`\n",
    "\n",
    "Como variável de saída (`y`) utilize o **logaritmo** neperiano do preço de venda, `price` (isto evita dar peso excessivo aos preços mais altos). Como atributos, utilize apenas as 4 colunas após o preço de venda, i.e., de `bedrooms` a `sqft_lot`.\n",
    "\n",
    "Defina uma variável `p` e separe o conjunto de dados aleatoriamente em conjuntos de treinamento, validação e teste, nas proporções $1-2p$, $p$ e $p$, respectivamente. Utilize inicialmente `p=0.2`.\n",
    "\n",
    "Para facilitar a compreensão e execução do código, é recomendável organizar a maioria das operações em funções, como por exemplo:\n",
    "```python\n",
    "def splitData(x, p=0.2):\n",
    "    return x_train, x_val, x_test\n",
    "    \n",
    "def normalizeFeatures(X):\n",
    "    return X\n",
    "\n",
    "def addOnesColumn(X):\n",
    "    return X\n",
    "\n",
    "def normalEquation(X, y, lamb):\n",
    "    return w\n",
    "\n",
    "def predict(X, w):\n",
    "    return y_hat\n",
    "\n",
    "def computeCost(X, y, w, lamb):\n",
    "    return J\n",
    "\n",
    "def gradientDescent(X, y, w, alpha, lamb, num_iters):\n",
    "    return w, J_history\n",
    "```\n",
    "\n",
    "As seguintes funções podem ser úteis:\n",
    "\n",
    "```python\n",
    "pandas.DataFrame.as_matrix()\n",
    "numpy.random.permutation()\n",
    "numpy.astype('float')\n",
    "int(round())\n",
    "```"
   ]
  },
  {
   "cell_type": "markdown",
   "metadata": {},
   "source": [
    "# 2. Normalização de atributos\n",
    "\n",
    "Treine o modelo via equação normal e calcule o erro no conjunto de treinamento. Em seguida, treine o modelo via método do gradiente e observe a dificuldade de conseguir uma boa convergência, em particular, de alcançar o mesmo erro que a equação normal.\n",
    "\n",
    "Em seguida, realize uma normalização de atributos e verifique que agora o método do gradiente converge rapidamente para a solução ótima.\n",
    "\n",
    "**Nota:** Para simplificar a implementação, é aceitável neste exercício realizar a normalização sobre todo o conjunto de dados. No entanto, é importante estar ciente que a implementação correta (ou mais convincente do ponto de vista preditivo) seria realizar a normalização somente sobre o conjunto de treinamento (por exemplo, internamente à função do método do gradiente), retornando um vetor de parâmetros relativo aos atributos originais sem normalização.\n",
    "\n",
    "Note que, devido ao espaço de atributos ser multidimensional, é difícil visualizar os dados e compará-los com a predição realizada. Uma possibilidade é plotar apenas a variável de saída ($y$ e $\\hat{y}$) em função do índice da observação. Para obter uma curva mais fácil de visualizar, você pode ordenar os dados de acordo com $\\hat{y}$ (ou $y$).\n",
    "\n",
    "As seguintes funções podem ser úteis:\n",
    "```\n",
    "numpy.mean(axis=0)\n",
    "numpy.std(axis=0)\n",
    "numpy.argsort( ,axis=0).flatten()\n",
    "```"
   ]
  },
  {
   "cell_type": "markdown",
   "metadata": {},
   "source": [
    "# 3. Regularização\n",
    "\n",
    "Calcule o erro do modelo no conjunto de teste e compare-o com o do treinamento. Há necessidade de regularização? Por quê?\n",
    "\n",
    "Para ilustrar a necessidade de regularização, altere o conjunto de dados até que o erro de treinamento mostre-se significativamente inferior ao erro de teste. Você pode experimentar as seguintes abordagens:\n",
    "- Reduza o tamanho do conjunto de treinamento, isto é, aumente o valor de $p$;\n",
    "- Adicione mais atributos derivados dos atributos originais usando funções não-lineares;\n",
    "- Adicione colunas aleatórias, por exemplo, com distribuição gaussiana.\n",
    "\n",
    "Em seguida, implemente o treinamento com regularização $\\ell_2$ e plote um gráfico dos erros de treinamento e de validação em função do parâmetro de regularização $\\lambda$ (em escala logarítmica). Use este resultado para determinar o valor ótimo de $\\lambda$ e calcular o erro de teste do modelo treinado com este $\\lambda$. Lembre-se que, ao contrário da função custo regularizada utilizada para treinamento, o erro do modelo (em qualquer conjunto de dados) deve ser calculado **sem regularização**. Após a regularização ótima, o erro de teste se aproximou do erro de treinamento?"
   ]
  },
  {
   "cell_type": "markdown",
   "metadata": {},
   "source": [
    "# 4. (OPCIONAL) Questões avançadas\n",
    "\n",
    "- Refaça a análise utilizando mais colunas da tabela original. Você consegue reduzir o erro no conjunto de teste?\n",
    "- Utilize um outro conjunto de dados com múltiplos atributos. Sugestão: https://archive.ics.uci.edu/ml/datasets/Wine+Quality\n",
    "- Implemente o método do gradiente mini-batch e observe a flutuação da função custo em função da iteração."
   ]
  }
 ],
 "metadata": {
  "kernelspec": {
   "display_name": "Python 3",
   "language": "python",
   "name": "python3"
  },
  "language_info": {
   "codemirror_mode": {
    "name": "ipython",
    "version": 3
   },
   "file_extension": ".py",
   "mimetype": "text/x-python",
   "name": "python",
   "nbconvert_exporter": "python",
   "pygments_lexer": "ipython3",
   "version": "3.6.1"
  }
 },
 "nbformat": 4,
 "nbformat_minor": 2
}
