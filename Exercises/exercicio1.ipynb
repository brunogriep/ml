{
 "cells": [
  {
   "cell_type": "markdown",
   "metadata": {},
   "source": [
    "<!--\n",
    "<center>\n",
    "Universidade Federal de Santa Catarina<br>\n",
    "Departamento de Engenharia Elétrica e Eletrônica<br>\n",
    "EEL7514/EEL7513 - Introdução ao Aprendizado de Máquina\n",
    "</center>\n",
    "\n",
    "<center>\n",
    "# Exercício 1:<br> Regressão Linear Simples</center>\n",
    "<p></p>\n",
    "\n",
    "## Objetivo\n",
    "-->\n",
    "\n",
    "Universidade Federal de Santa Catarina<br>\n",
    "Departamento de Engenharia Elétrica e Eletrônica<br>\n",
    "EEL7514/EEL7513 - Introdução ao Aprendizado de Máquina\n",
    "$\\newcommand{\\bX}{\\mathbf{X}}$\n",
    "$\\newcommand{\\bw}{\\mathbf{w}}$\n",
    "$\\newcommand{\\by}{\\mathbf{y}}$\n",
    "$\\newcommand{\\bx}{\\mathbf{x}}$\n",
    "\n",
    "\n",
    "# Exercício 1: Regressão Linear Simples\n",
    "\n",
    "## Objetivo\n",
    "\n",
    "Neste exercício você irá treinar um modelo de regressão linear simples, usando tanto a equação normal quanto o método do gradiente, e o usará para fazer predições sobre um conjunto de teste.\n",
    "\n",
    "O exercício resolvido, em formato `.ipynb`, completo com explicações e gráficos integrados, deve ser submetido via moodle até o prazo especificado."
   ]
  },
  {
   "cell_type": "markdown",
   "metadata": {},
   "source": [
    "# 1. Preparação\n",
    "## 1.1 Carregando os dados\n",
    "\n",
    "O conjunto de dados será uma série temporal contendo o preço diário de fechamento do Bitcoin, em USD, ao longo do ano de 2017. Baixe o arquivo em:\n",
    "\n",
    "http://www.kaggle.com/sudalairajkumar/cryptocurrencypricehistory/downloads/bitcoin_price.csv\n",
    "\n",
    "e salve-o numa subpasta `data`, i.e., o arquivo estará acessível em `data/bitcoin_price.csv`"
   ]
  },
  {
   "cell_type": "markdown",
   "metadata": {},
   "source": [
    "## 1.2 Separando os conjuntos de treinamento e teste\n",
    "\n",
    "Utilize como conjunto de treinamento os dados dos 9 primeiros meses de 2017 (273 dias) e como conjunto de teste os 3 últimos meses de 2017 (92 dias).\n",
    "\n",
    "Sempre que aplicável, organize suas variáveis da seguinte forma:\n",
    "- Variável com sufixo `_full` para o conjunto completo. Ex: `s_full`, `X_full`, `y_full`\n",
    "- Variável com sufixo `_train` para o conjunto de treinamento. Ex: `s_train`, `X_train`, `y_train`\n",
    "- Variável com sufixo `_test` para o conjunto de teste. Ex: `s_test`, `X_test`, `y_test`\n",
    "\n",
    "(Alternativamente, você pode preferir eliminar o sufixo do conjunto completo ou do conjunto de treinamento, se sentir que não há risco de confusão.)"
   ]
  },
  {
   "cell_type": "markdown",
   "metadata": {},
   "source": [
    "# 2. Equação normal \n",
    "## 2.1 Treinamento\n",
    "\n",
    "Treine o modelo usando a equação normal vista em sala:\n",
    "$$\n",
    "\\bw = (\\bX^T \\bX)^{-1} \\bX^T \\by\n",
    "$$\n",
    "\n",
    "## 2.2 Predição\n",
    "Em seguida, realize uma predição sobre todo o conjunto de dados e plote-a junto com os dados.\n",
    "\n",
    "Finalmente, calcule o valor do erro de predição $J_{test}(\\bw)$ sobre o conjunto de **teste**."
   ]
  },
  {
   "cell_type": "markdown",
   "metadata": {},
   "source": [
    "# 3. Método do gradiente\n",
    "## 3.1 Treinamento\n",
    "\n",
    "Treine o modelo usando o método do gradiente visto em sala:\n",
    "$$\n",
    "\\bw^{[t+1]} = \\bw^{[t]} - \\alpha \\frac{1}{m} \\bX^T(\\bX\\bw^{[t]} - \\by)\n",
    "$$\n",
    "\n",
    "Para diagnosticar se a taxa de aprendizado $\\alpha$ escolhida está adequada, plote o gráfico de $J_{train}(\\bw^{[t]})$ em função do número da iteração $t$.\n",
    "\n",
    "Ao final, confirme se o vetor de parâmetros obtido é aproximadamente o mesmo que o obtido via equação normal."
   ]
  },
  {
   "cell_type": "markdown",
   "metadata": {},
   "source": [
    "# 3.2 Predição\n",
    "\n",
    "Em seguida, realize uma predição sobre todo o conjunto de dados e plote-a junto com os dados.\n",
    "\n",
    "Finalmente, calcule o valor do erro de predição $J_{test}(\\bw)$ sobre o conjunto de **teste**."
   ]
  },
  {
   "cell_type": "markdown",
   "metadata": {},
   "source": [
    "# 4. Análise\n",
    "\n",
    "- Para este conjunto de dados, qual método de treinamento é mais interessante? Por quê?\n",
    "- Na sua opinião, a predição se mostrou precisa? Por quê?\n",
    "- O que poderia ser feito para melhorar o modelo? Explique."
   ]
  },
  {
   "cell_type": "markdown",
   "metadata": {},
   "source": [
    "# 5. (OPCIONAL) Outro conjunto de dados\n",
    "\n",
    "Pesquise alguma outra série temporal de seu interesse (por exemplo, em http://www.kaggle.com/datasets) e modele-a usando regressão linear para prever seu comportamento futuro."
   ]
  }
 ],
 "metadata": {
  "kernelspec": {
   "display_name": "Python 3",
   "language": "python",
   "name": "python3"
  },
  "language_info": {
   "codemirror_mode": {
    "name": "ipython",
    "version": 3
   },
   "file_extension": ".py",
   "mimetype": "text/x-python",
   "name": "python",
   "nbconvert_exporter": "python",
   "pygments_lexer": "ipython3",
   "version": "3.6.1"
  }
 },
 "nbformat": 4,
 "nbformat_minor": 2
}
