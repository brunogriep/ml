{
 "cells": [
  {
   "cell_type": "markdown",
   "metadata": {},
   "source": [
    "Universidade Federal de Santa Catarina<br>\n",
    "Departamento de Engenharia Elétrica e Eletrônica<br>\n",
    "EEL7514/EEL7513 - Introdução ao Aprendizado de Máquina\n",
    "$\\newcommand{\\bX}{\\mathbf{X}}$\n",
    "$\\newcommand{\\bw}{\\mathbf{w}}$\n",
    "$\\newcommand{\\by}{\\mathbf{y}}$\n",
    "$\\newcommand{\\bx}{\\mathbf{x}}$\n",
    "$\\newcommand{\\bW}{\\mathbf{W}}$\n",
    "$\\newcommand{\\bb}{\\mathbf{b}}$\n",
    "$\\newcommand{\\ba}{\\mathbf{a}}$\n",
    "$\\newcommand{\\bz}{\\mathbf{z}}$\n",
    "$\\newcommand{\\bA}{\\mathbf{A}}$\n",
    "$\\newcommand{\\bZ}{\\mathbf{Z}}$\n",
    "$\\newcommand{\\bS}{\\mathbf{S}}$\n",
    "$\\newcommand{\\bdelta}{\\boldsymbol{\\delta}}$\n",
    "$\\newcommand{\\bDelta}{\\boldsymbol{\\Delta}}$\n",
    "$\\newcommand{\\mat}[1]{\\begin{bmatrix} #1 \\end{bmatrix}}$\n",
    "\n",
    "\n",
    "# Exercício 7: $K$-means e PCA\n"
   ]
  },
  {
   "cell_type": "markdown",
   "metadata": {},
   "source": [
    "Neste exercício, você irá explorar duas técnicas de aprendizado supervisionado: clustering com o algoritmo $K$-means e redução de dimensionalidade com o método de análise de componentes principais (PCA).\n",
    "\n",
    "Lembre que, além da implementação, você deve incluir também uma **análise** dos resultados. "
   ]
  },
  {
   "cell_type": "markdown",
   "metadata": {},
   "source": [
    "# Instruções gerais\n",
    "O exercício consiste de realizar o exercício em\n",
    "\n",
    "https://github.com/dibgerge/ml-coursera-python-assignments/tree/master/Exercise7\n",
    "\n",
    "com as seguintes adições:\n",
    "1. Após realizar o exercício original, refaça o exercício usando as funções da biblioteca [scikit-learn](http://scikit-learn.org/stable/modules/generated/sklearn.svm.SVC.html#sklearn.svm.SVC), em particular:\n",
    " - sklearn.cluster.KMeans\n",
    " - sklearn.decomposition.PCA\n",
    "1. Aplique o k-means no conjunto de ~~imagens de faces~~ dígitos [MNIST](http://scikit-learn.org/stable/datasets/index.html) para tentar encontrar grupos de ~~faces~~ dígitos similares \n",
    "1. Repita o item anterior tendo pré-processado as imagens com PCA, com objetivo de reduzir a acelerar o k-means sem alterar significativamente os resultados\n",
    "\n",
    "Os itens 2 e 3 podem ser feitos com as funções da sklearn.\n",
    "\n",
    "**Obs: ignore as instruções para \"submeter suas soluções\".**"
   ]
  },
  {
   "cell_type": "markdown",
   "metadata": {},
   "source": [
    "# Observações\n",
    "\n",
    "A notação usada no exercício do Coursera é exatamente **oposta** à usada nos slides com relação às matrizes $\\bS$ e $\\Sigma$. Por favor tomem cuidado para não se confundir."
   ]
  }
 ],
 "metadata": {
  "kernelspec": {
   "display_name": "Python 3",
   "language": "python",
   "name": "python3"
  },
  "language_info": {
   "codemirror_mode": {
    "name": "ipython",
    "version": 3
   },
   "file_extension": ".py",
   "mimetype": "text/x-python",
   "name": "python",
   "nbconvert_exporter": "python",
   "pygments_lexer": "ipython3",
   "version": "3.6.1"
  }
 },
 "nbformat": 4,
 "nbformat_minor": 2
}
