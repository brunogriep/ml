{
 "cells": [
  {
   "cell_type": "markdown",
   "metadata": {},
   "source": [
    "Universidade Federal de Santa Catarina<br>\n",
    "Departamento de Engenharia Elétrica e Eletrônica<br>\n",
    "EEL7514/EEL7513 - Introdução ao Aprendizado de Máquina\n",
    "$\\newcommand{\\bX}{\\mathbf{X}}$\n",
    "$\\newcommand{\\bw}{\\mathbf{w}}$\n",
    "$\\newcommand{\\by}{\\mathbf{y}}$\n",
    "$\\newcommand{\\bx}{\\mathbf{x}}$\n",
    "$\\newcommand{\\bW}{\\mathbf{W}}$\n",
    "$\\newcommand{\\bb}{\\mathbf{b}}$\n",
    "$\\newcommand{\\ba}{\\mathbf{a}}$\n",
    "$\\newcommand{\\bz}{\\mathbf{z}}$\n",
    "$\\newcommand{\\mat}[1]{\\begin{bmatrix} #1 \\end{bmatrix}}$\n",
    "\n",
    "\n",
    "# Exercício 4: Redes Neurais\n"
   ]
  },
  {
   "cell_type": "markdown",
   "metadata": {},
   "source": [
    "Neste exercício você irá implementar e treinar uma rede neural que aproxima a função XOR. O objetivo do exercício é demonstrar a capacidade que as redes neurais possuem de *aprender* automaticamente atributos relevantes para classificação.\n",
    "\n",
    "O exercício também ilustra a implementação do algoritmo de propagação reversa (*backpropagation*) para cálculo dos gradientes, essencial para a implementação eficiente do treinamento.\n",
    "\n",
    "Assim como no exercício anterior, para simplificar usaremos somente o conjunto de treinamento.\n",
    "\n",
    "Lembre que, além da implemenação, você deve incluir também uma **análise** dos resultados. "
   ]
  },
  {
   "cell_type": "markdown",
   "metadata": {},
   "source": [
    "# 1. Obtendo o conjunto de dados\n",
    "\n",
    "Usaremos um conjunto de dados sintético produzido facilmente pela biblioteca `scikit-learn`. Os dados podem ser interpretados como uma versão ruidosa da função XOR."
   ]
  },
  {
   "cell_type": "code",
   "execution_count": 1,
   "metadata": {
    "scrolled": false
   },
   "outputs": [
    {
     "data": {
      "text/plain": [
       "[<matplotlib.lines.Line2D at 0x1e66aacac18>,\n",
       " <matplotlib.lines.Line2D at 0x1e66aacada0>]"
      ]
     },
     "execution_count": 1,
     "metadata": {},
     "output_type": "execute_result"
    },
    {
     "data": {
      "image/png": "[encoded data removed]",
      "text/plain": [
       "<matplotlib.figure.Figure at 0x1e6681b5198>"
      ]
     },
     "metadata": {},
     "output_type": "display_data"
    }
   ],
   "source": [
    "import numpy as np\n",
    "import pandas as pd\n",
    "import matplotlib.pyplot as plt\n",
    "import scipy.optimize as opt\n",
    "import sklearn.datasets\n",
    "%matplotlib inline\n",
    "\n",
    "m = 400\n",
    "centers = [[0,0],[0,1],[1,1],[1,0]]\n",
    "X,y = sklearn.datasets.make_blobs(n_samples=m, n_features=2, centers=centers, cluster_std=0.15, random_state=0)\n",
    "y = (y % 2 == 0).astype(float)\n",
    "plt.plot(X[y==0,0],X[y==0,1],'bo',X[y==1,0],X[y==1,1],'rx')"
   ]
  },
  {
   "cell_type": "markdown",
   "metadata": {},
   "source": [
    "**Obs:** Ao contrário dos exercícios anteriores, aqui a matrix $\\bX$ deve conter apenas os atributos originais, pois o termo de _bias_ ($\\bb$) é representado separadamente no modelo da rede neural."
   ]
  },
  {
   "cell_type": "markdown",
   "metadata": {},
   "source": [
    "# 2. Estrutura do modelo\n",
    "\n",
    "O modelo será uma rede neural de duas camadas ($L=2$), portanto com uma única camada oculta, a qual deve conter duas unidades ($n_1 = 2$). Os demais tamanhos são determinados pelos dados; portanto, a rede deve possuir uma camada de entrada com duas unidades ($n_0 = 2$), correspondendo ao número de atributos, e uma camada de saída com uma única unidade ($n_2 = 1$), com o objetivo de realizar uma classificação binária.\n",
    "\n",
    "As funções de ativação, tanto da camada de saída quanto da camada oculta, devem ser do tipo sigmóide, $g(z) = \\sigma(z)$.\n",
    "\n",
    "Como consequência da sua estrutura, o modelo possui um total de 9 parâmetros:\n",
    "- $\\bW^{[1]} = \\mat{{\\bw_1^{[1]}}^T \\\\ {\\bw_2^{[1]}}^T} = \\mat{w_{1,1}^{[1]} & w_{1,2}^{[1]} \\\\ w_{2,1}^{[1]} & w_{2,2}^{[1]}}$\n",
    "- $\\bb^{[1]} = \\mat{b_1^{[1]} \\\\ b_2^{[1]}}$\n",
    "- $\\bW^{[2]} = \\mat{{\\bw_1^{[2]}}^T} = \\mat{w_{1,1}^{[2]} & w_{1,2}^{[2]}}$\n",
    "- $\\bb^{[2]} = \\mat{b_1^{[2]}}$\n",
    "\n",
    "Internamente, estes parâmetros devem estar representados como um único vetor 1-D, denotado por $\\theta$:\n",
    "$$\n",
    "\\theta = (w^{[1]}_{1,1},w^{[1]}_{1,2},w^{[1]}_{2,1},w^{[1]}_{2,2},b^{[1]}_{1},b^{[1]}_{2},w^{[2]}_{1,1},w^{[2]}_{1,2},b^{[2]}_{1})\n",
    "$$"
   ]
  },
  {
   "cell_type": "markdown",
   "metadata": {},
   "source": [
    "# 3. Implementando o modelo\n",
    "\n",
    "O treinamento da rede neural, implementado pela função `train` fornecida abaixo, envolve os seguintes passos:\n",
    "\n",
    "1. Inicialização dos parâmetros (vetor $\\theta$)\n",
    "2. Minimização da função custo\n",
    "\n",
    "Note que, para este exercício, não é necessário normalizar os atributos.\n",
    "\n",
    "A principal diferença para os exercícios anteriores é a opção `jac=True` na função `minimize`, que indica que o gradiente será calculado na própria função custo (como segundo objeto retornado) ao invés de uma função separada. Isto é importante para reduzir a complexidade, pois todos os passos necessários para calcular o custo são também realizados no cálculo do gradiente, e assim podem ser reaproveitados.\n",
    "\n",
    "Portanto, a parte central da implementação está na função custo, sendo a etapa mais difícil o cálculo do gradiente, a qual é feita pelo método *backpropagation*. Este método consiste essencialmente da aplicação repetida da regra da cadeia do cálculo diferencial.\n",
    "\n",
    "Para facilitar a implementação, neste exercício, não é necessário _vetorizar_ o código, isto é, você pode utilizar um laço sobre as amostras do conjunto de treinamento (`for i in range(m):`) para calcular tanto o custo quanto o gradiente.\n",
    "\n",
    "**Dica:** inicialize $\\bw_1^{[1]}$ e $\\bw_2^{[1]}$ com valores _diferentes_, caso contrário seus valores tenderão a se manter idênticos durante todo o treinamento."
   ]
  },
  {
   "cell_type": "code",
   "execution_count": 2,
   "metadata": {
    "collapsed": true
   },
   "outputs": [],
   "source": [
    "def train(X, y):\n",
    "    theta = initialize_parameters()\n",
    "    theta = opt.minimize(fun=cost, x0=theta, jac=True, args=(X,y), options={'maxiter': 100}).x\n",
    "    return theta\n",
    "\n",
    "def merge_parameters(W1, b1, W2, b2):\n",
    "    return theta\n",
    "\n",
    "def split_parameters(theta):\n",
    "    return W1, b1, W2, b2\n",
    "\n",
    "def initialize_parameters():\n",
    "    return theta\n",
    "\n",
    "def cost(theta, X, y):\n",
    "\n",
    "    # Split theta into W1, b1, W2, b2\n",
    "    \n",
    "    # Forward propagation: compute z1, a1, z2, a2\n",
    "\n",
    "    # Cost: compute J\n",
    "    \n",
    "    # Back propagation: compute dJ/dz2, dJ/dW2, dJ/db2, dJ/da1, dJ/dz1, dJ/dW1, dJ/db1\n",
    "    \n",
    "    # Merge dJ/dW1, dJ/db1, dJ/dW2, dJ/db2 into grad = dJ/dtheta\n",
    "    \n",
    "    return J, grad\n",
    "\n",
    "def predict_class(theta, X):\n",
    "    \n",
    "    # Forward propagation: compute y_hat = a2\n",
    "    \n",
    "    y_pred = (y_hat > 0.5).astype(float)\n",
    "    return y_pred\n",
    "\n",
    "def accuracy(theta, X, y):\n",
    "    y_pred = predict_class(theta, X)\n",
    "    return np.mean(y_pred == y)"
   ]
  },
  {
   "cell_type": "markdown",
   "metadata": {},
   "source": [
    "## 3.1 Equações do método backpropagation\n",
    "\n",
    "Para o caso especial de uma rede n_0 x n_1 x 1 (isto é, $L=2$ e $n_2 = 1$):\n",
    "\n",
    "$$\n",
    "\\frac{\\partial J}{\\partial z_1^{[2]}} = a_1^{[2]} - y\n",
    "$$\n",
    "$$\n",
    "\\frac{\\partial J}{\\partial z_j^{[1]}} = \\frac{\\partial J}{\\partial z_1^{[2]}} \\cdot \\frac{\\partial z_1^{[2]}}{\\partial a_j^{[1]}} \\cdot \\frac{\\partial a_j^{[1]}}{\\partial z_j^{[1]}}\n",
    "$$\n",
    "$$\n",
    "\\frac{\\partial J}{\\partial \\bw_k^{[\\ell]}} = \\frac{\\partial J}{\\partial z_k^{[\\ell]}} \\cdot \\frac{\\partial z_k^{[\\ell]}}{\\partial \\bw_k^{[\\ell]}}\n",
    "$$\n",
    "$$\n",
    "\\frac{\\partial J}{\\partial b_k^{[\\ell]}} = \\frac{\\partial J}{\\partial z_k^{[\\ell]}} \\cdot \\frac{\\partial z_k^{[\\ell]}}{\\partial b_k^{[\\ell]}}\n",
    "$$"
   ]
  },
  {
   "cell_type": "markdown",
   "metadata": {},
   "source": [
    "# 4. Predição\n",
    "\n",
    "Avalie a acurácia do modelo no conjunto de treinamento. Você conseguiu obter 100% de acurácia?\n",
    "\n",
    "Experimente alterar o parâmetro `cluster_std` na geração do conjunto de dados para verificar como o modelo se comporta, bem como alterar o número de amostras. Você pode também alterar o número de iterações no treinamento.\n",
    "\n",
    "Note que, se desejar usar as funções plotDataset e plotBoundary, estas devem ser adaptadas ao formato usado para a matrix $\\bX$ e à função de predição do modelo."
   ]
  },
  {
   "cell_type": "markdown",
   "metadata": {},
   "source": [
    "# 4. (OPCIONAL) Outro conjunto de dados\n",
    "\n",
    "Escolha um outro conjunto de dados bidimensional da sua preferência e tente representá-lo usando a mesma rede neural. Se desejar, você pode aumentar o número de unidades da camada oculta; no entanto, para isso será necessário reimplementar as funções do modelo permitindo um valor arbitrário de $n_2$."
   ]
  }
 ],
 "metadata": {
  "kernelspec": {
   "display_name": "Python 3",
   "language": "python",
   "name": "python3"
  },
  "language_info": {
   "codemirror_mode": {
    "name": "ipython",
    "version": 3
   },
   "file_extension": ".py",
   "mimetype": "text/x-python",
   "name": "python",
   "nbconvert_exporter": "python",
   "pygments_lexer": "ipython3",
   "version": "3.6.1"
  }
 },
 "nbformat": 4,
 "nbformat_minor": 2
}
