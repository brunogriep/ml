{
 "cells": [
  {
   "cell_type": "markdown",
   "metadata": {},
   "source": [
    "Universidade Federal de Santa Catarina<br>\n",
    "Departamento de Engenharia Elétrica e Eletrônica<br>\n",
    "EEL7514/EEL7513 - Introdução ao Aprendizado de Máquina\n",
    "$\\newcommand{\\bX}{\\mathbf{X}}$\n",
    "$\\newcommand{\\bw}{\\mathbf{w}}$\n",
    "$\\newcommand{\\by}{\\mathbf{y}}$\n",
    "$\\newcommand{\\bx}{\\mathbf{x}}$\n",
    "$\\newcommand{\\bW}{\\mathbf{W}}$\n",
    "$\\newcommand{\\bb}{\\mathbf{b}}$\n",
    "$\\newcommand{\\ba}{\\mathbf{a}}$\n",
    "$\\newcommand{\\bz}{\\mathbf{z}}$\n",
    "$\\newcommand{\\bA}{\\mathbf{A}}$\n",
    "$\\newcommand{\\bZ}{\\mathbf{Z}}$\n",
    "$\\newcommand{\\bS}{\\mathbf{S}}$\n",
    "$\\newcommand{\\bL}{\\mathbf{L}}$\n",
    "$\\newcommand{\\bR}{\\mathbf{R}}$\n",
    "$\\newcommand{\\bdelta}{\\boldsymbol{\\delta}}$\n",
    "$\\newcommand{\\bDelta}{\\boldsymbol{\\Delta}}$\n",
    "$\\newcommand{\\calD}{\\mathcal{D}}$\n",
    "$\\newcommand{\\mat}[1]{\\begin{bmatrix} #1 \\end{bmatrix}}$\n",
    "\n",
    "\n",
    "# Exercício 8: Detecção de Anomalias e Sistemas de Recomendação\n"
   ]
  },
  {
   "cell_type": "markdown",
   "metadata": {},
   "source": [
    "Neste exercício, você irá explorar duas aplicações de técnicas de aprendizado de máquina: estimação de densidade para detecção de anomalias, um problema de aprendizado não supervisionado; e um algoritmo de fatoração matricial para filtragem colaborativa em um sistema de recomendação.\n",
    "\n",
    "Lembre que, além da implementação, você deve incluir também uma **análise** dos resultados. "
   ]
  },
  {
   "cell_type": "markdown",
   "metadata": {},
   "source": [
    "# Instruções gerais\n",
    "O exercício consiste de realizar o exercício em\n",
    "\n",
    "https://github.com/dibgerge/ml-coursera-python-assignments/tree/master/Exercise8\n",
    "\n",
    "com as seguintes modificações/adições:\n",
    "#### Parte 1\n",
    "1. Após finalizar a primeira parte do exercício, implemente sua própria versão da função `utils.multivariateGaussian` e compare-a função `scipy.stats.multivariate_normal`.\n",
    "1. Modifique a função `estimateGaussian` adicionando uma opção `full=False` para que realize uma estimação com matriz de covariância genérica (ao invés de diagonal) caso seja escolhida a opção `full=True`. Verifique se sua estimação está correta comparando-a com a função `numpy.cov`. Em seguida, rode novamente a última célula (segundo conjunto de dados) com a estimação completa. Os resultados mudaram significativamente?\n",
    "1. Agora, aplique uma transformação linear aleatória nos atributos (i.e., `X @ A`) e refaça mais uma vez os resultados comparando a estimação original (covariância diagonal) com a nova implementação (covariância genérica). Os resultados mudam?\n",
    "1. Encontre pelo menos mais algum cálculo que possa ser substituido por função de alguma biblioteca do Python, por exemplo, da `sckit-learn`.\n",
    "\n",
    "#### Parte 2\n",
    "1. Conclua esta parte do exercício utilizando uma implementação vetorizada, seja usando os índices das avaliações (conforme explicado no exercício) ou usando multiplicação por matriz diagonal (conforme os slides da aula). Você pode tanto realizar primeiramente uma implementação não-vetorizada e posteriormente vetorizá-la, ou realizar diretamente uma implementação vetorizada, à sua escolha. Note que a versão fornecida nos slides é duplamente vetorizada, i.e., não há loops para cálculo de gradientes.\n",
    "1. Estime o desempenho do seu modelo usando um conjunto de teste aleatório consistindo de 20% das avaliações fornecidas, sendo o modelo treinado com os dados restantes (80% das avaliações fornecidas). Estime o desempenho do modelo usando as métricas RMSE e F1 (ver abaixo).\n",
    "1. Varie o número de fatores latentes (atributos, $n$) e verifique o impacto no desempenho do modelo.\n",
    "1. Compare seus resultados com a versão _unbiased_ do algoritmo SVD da biblioteca [scikit-surprise](http://surpriselib.com/) (que corresponde ao mesmo algoritmo que estamos usando).\n",
    "\n",
    "A métrica RMSE é dada por\n",
    "$$\n",
    "RMSE = \\sqrt{\\frac{1}{|\\{(i,k): R^{test}_{i,k} = 1\\}|}\\sum_{(i,k): R^{test}_{i,k} = 1} (\\hat{y}_{k}^{(i)} - y_k^{(i)})^2}\n",
    "$$\n",
    "enquanto a métrica F1 deve ser calculada considerando como classe positiva (verdadeira) as avaliações $y_k^{(i)}=5$ e como predição positiva as predições $\\hat{y}_k^{(i)} > 4.5$. (Essa é uma maneira de estimar o desempenho do modelo na tarefa de fornecer as top-N recomendações.) \n",
    "\n",
    "**Obs: ignore as instruções para \"submeter suas soluções\".**"
   ]
  },
  {
   "cell_type": "markdown",
   "metadata": {},
   "source": [
    "# Dicas de implementação\n",
    "\n",
    "Para permutar aleatoriamente e escolher um suconjunto das avaliações fornecidas (entradas não-nulas da matriz $\\bR$), os comandos a seguir podem ser úteis:"
   ]
  },
  {
   "cell_type": "code",
   "execution_count": 1,
   "metadata": {},
   "outputs": [
    {
     "name": "stdout",
     "output_type": "stream",
     "text": [
      "[[0 1]\n",
      " [0 4]\n",
      " [1 2]\n",
      " [2 1]\n",
      " [3 0]\n",
      " [3 3]\n",
      " [4 2]\n",
      " [4 3]]\n"
     ]
    }
   ],
   "source": [
    "import numpy as np\n",
    "R = np.array([[0,1,0,0,1],[0,0,1,0,0],[0,1,0,0,0],[1,0,0,1,0],[0,0,1,1,0]])\n",
    "R_ind = np.array(R.nonzero()).T\n",
    "print(R_ind)"
   ]
  },
  {
   "cell_type": "code",
   "execution_count": 2,
   "metadata": {},
   "outputs": [
    {
     "data": {
      "text/plain": [
       "True"
      ]
     },
     "execution_count": 2,
     "metadata": {},
     "output_type": "execute_result"
    }
   ],
   "source": [
    "A = np.zeros(R.shape)\n",
    "A[tuple(R_ind.T)]=1\n",
    "(A==R).all()"
   ]
  },
  {
   "cell_type": "markdown",
   "metadata": {},
   "source": [
    "# Observações\n",
    "\n",
    "<span style=\"color:red\">O exercício do Coursera **não** utiliza parâmetro de _bias_ (notação $x_0=1$), portanto ignore a matriz $\\bL$ mencionada nos slides da Aula 8 (slides 22, 32 e 33), i.e., substitua-a por uma matriz identidade.</span>\n",
    "\n",
    "A notação usada no exercício do Coursera é um pouco diferente da usada nos slides, conforme o mapeamento a seguir:\n",
    "- Slides $\\longrightarrow$ Exercício\n",
    "- Número de itens: $m \\longrightarrow n_m$\n",
    "- Número de usuários: $K \\longrightarrow n_u$\n",
    "- Índice do atributo (sempre subscrito): $j \\longrightarrow k$\n",
    "- Índice do usuário: $k \\longrightarrow j$\n",
    "- Vetor de parâmetros do usuário: $\\bw_k \\longrightarrow \\theta^{(j)}$"
   ]
  }
 ],
 "metadata": {
  "kernelspec": {
   "display_name": "Python 3",
   "language": "python",
   "name": "python3"
  },
  "language_info": {
   "codemirror_mode": {
    "name": "ipython",
    "version": 3
   },
   "file_extension": ".py",
   "mimetype": "text/x-python",
   "name": "python",
   "nbconvert_exporter": "python",
   "pygments_lexer": "ipython3",
   "version": "3.6.1"
  }
 },
 "nbformat": 4,
 "nbformat_minor": 2
}
