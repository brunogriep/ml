{
 "cells": [
  {
   "cell_type": "markdown",
   "metadata": {},
   "source": [
    "Universidade Federal de Santa Catarina<br>\n",
    "Departamento de Engenharia Elétrica e Eletrônica<br>\n",
    "EEL7514/EEL7513 - Introdução ao Aprendizado de Máquina\n",
    "$\\newcommand{\\bX}{\\mathbf{X}}$\n",
    "$\\newcommand{\\bw}{\\mathbf{w}}$\n",
    "$\\newcommand{\\by}{\\mathbf{y}}$\n",
    "$\\newcommand{\\bx}{\\mathbf{x}}$\n",
    "$\\newcommand{\\bW}{\\mathbf{W}}$\n",
    "$\\newcommand{\\bb}{\\mathbf{b}}$\n",
    "$\\newcommand{\\ba}{\\mathbf{a}}$\n",
    "$\\newcommand{\\bz}{\\mathbf{z}}$\n",
    "$\\newcommand{\\bA}{\\mathbf{A}}$\n",
    "$\\newcommand{\\bZ}{\\mathbf{Z}}$\n",
    "$\\newcommand{\\bdelta}{\\boldsymbol{\\delta}}$\n",
    "$\\newcommand{\\bDelta}{\\boldsymbol{\\Delta}}$\n",
    "$\\newcommand{\\mat}[1]{\\begin{bmatrix} #1 \\end{bmatrix}}$\n",
    "\n",
    "\n",
    "# Exercício 5: Redes Neurais - Treinamento\n"
   ]
  },
  {
   "cell_type": "markdown",
   "metadata": {},
   "source": [
    "Neste exercício você irá implementar a construção e treinamento de rede neural genérica, como qualquer número de camadas e qualquer número de unidades por camada. Em seguida você irá usar o código desenvolvido em um problema de classificação de imagens.\n",
    "\n",
    "Lembre que, além da implementação, você deve incluir também uma **análise** dos resultados. "
   ]
  },
  {
   "cell_type": "markdown",
   "metadata": {},
   "source": [
    "# 1. Obtendo o conjunto de dados\n",
    "\n",
    "O conjunto de dados será formado por imagens de gatos ($y=1$) e não-gatos ($y=0$), cada uma com 64x64x3 pixels (3 canais RGB), com valores de intensidade inteiros entre 0 e 255. As imagens já estão separadas em um conjunto de treinamento com 209 amostras e um conjunto de teste com 50 amostras."
   ]
  },
  {
   "cell_type": "code",
   "execution_count": 1,
   "metadata": {},
   "outputs": [
    {
     "name": "stdout",
     "output_type": "stream",
     "text": [
      "(209, 64, 64, 3)\n",
      "(50, 64, 64, 3)\n",
      "0\n",
      "255\n"
     ]
    }
   ],
   "source": [
    "import numpy as np\n",
    "import matplotlib.pyplot as plt\n",
    "import h5py\n",
    "%matplotlib inline\n",
    "\n",
    "train_data = h5py.File('datasets/train_catvnoncat.h5', \"r\")\n",
    "train_images = train_data[\"train_set_x\"][:]\n",
    "train_labels = train_data[\"train_set_y\"][:]\n",
    "test_data = h5py.File('datasets/test_catvnoncat.h5', \"r\")\n",
    "test_images = test_data[\"test_set_x\"][:]\n",
    "test_labels = test_data[\"test_set_y\"][:]\n",
    "\n",
    "print(train_images.shape)\n",
    "print(test_images.shape)\n",
    "print(train_images.min())\n",
    "print(train_images.max())"
   ]
  },
  {
   "cell_type": "code",
   "execution_count": 2,
   "metadata": {},
   "outputs": [
    {
     "name": "stdout",
     "output_type": "stream",
     "text": [
      "1\n"
     ]
    },
    {
     "data": {
      "image/png": "[encoded data removed]",
      "text/plain": [
       "<matplotlib.figure.Figure at 0x192ec73ff60>"
      ]
     },
     "metadata": {},
     "output_type": "display_data"
    }
   ],
   "source": [
    "# Exemplo de uma imagem\n",
    "index = 7\n",
    "plt.imshow(train_images[index])\n",
    "print(train_labels[index])"
   ]
  },
  {
   "cell_type": "markdown",
   "metadata": {},
   "source": [
    "Como cada conjunto de dados é um array 4-D com dimensões $m \\times 64 \\times 64 \\times 3$, devemos primeiramente convertê-los em uma matriz de atributos com dimensões $m \\times 12288$. Além disso, é uma boa prática normalizar os dados, o que, nesse caso, pode ser feito simplesmente dividindo-se cada atributo por 255, de forma que cada atributo esteja na faixa [0,1]."
   ]
  },
  {
   "cell_type": "code",
   "execution_count": 3,
   "metadata": {
    "collapsed": true
   },
   "outputs": [],
   "source": [
    "m_train = train_images.shape[0]\n",
    "X_train = train_images.reshape(m_train,-1)/255\n",
    "Y_train = train_labels.reshape(m_train,-1)\n",
    "\n",
    "m_test = test_images.shape[0]\n",
    "X_test = test_images.reshape(m_test,-1)/255\n",
    "Y_test = test_labels.reshape(m_test,-1)"
   ]
  },
  {
   "cell_type": "markdown",
   "metadata": {},
   "source": [
    "# 2. Estrutura do modelo\n",
    "\n",
    "Os parâmetros do modelo são:\n",
    "- Número de camadas, $L$ (excluindo-se a camada de entrada)\n",
    "- Número de unidades por camada, $n_0,\\ldots,n_L$, representados por uma tuple `n` de comprimento $L+1$. Ex: `n[0] = 12288`. Como é um problema de classificação binária, necessariamente o último elemento tem valor `n[L] = 1`.\n",
    "- Matrizes de pesos, $\\bW^{[1]},\\ldots,\\bW^{[L]}$, sendo que $\\bW^{[\\ell]}$ possui tamanho $n_{\\ell} \\times n_{\\ell-1}$. Para facilitar, represente-as por uma **lista** `W` de comprimento $L+1$, sendo que o primeiro elemento deve ser ignorado; por exemplo, defina `W[0] = None`.\n",
    "- Vetores de bias, , $\\bb^{[1]},\\ldots,\\bb^{[L]}$, sendo que $\\bb^{[\\ell]}$ possui tamanho $n_{\\ell} \\times 1$. Da mesma forma, represente-os por uma lista `b` de comprimento $L+1$, com `b[0] = None`.\n",
    "\n",
    "Utilize funções de ativação sigmóide logística, $g(z)=σ(z)$, tanto na camada de saída quanto nas camadas ocultas, e a função custo de entropia cruzada.\n",
    "\n",
    "Para uso nas funções de otimização, os parâmetros $\\bW^{[\\ell]}$ e $\\bb^{[\\ell]}$ devem estar representados como um único vetor 1-D, denotado por $\\theta$, o qual deve possuir comprimento $N = \\prod_{\\ell=1}^L (n_{\\ell-1}+1)n_\\ell$.\n",
    "\n",
    "**Dica:** Defina `n` fora do escopo das funções, i.e., no escopo principal. Desta forma seu valor estará disponível para leitura dentro das funções, como uma variável global.\n",
    "\n",
    "**Dica:** Inspecione com cuidado as funções abaixo, as quais já foram (parcialmente) fornecidas."
   ]
  },
  {
   "cell_type": "code",
   "execution_count": 4,
   "metadata": {
    "collapsed": true
   },
   "outputs": [],
   "source": [
    "def merge_parameters(W, b):\n",
    "    theta = np.concatenate([np.concatenate([W[i].reshape(-1),b[i].reshape(-1)]) for i in range(1,len(W))])\n",
    "    return theta\n",
    "\n",
    "def split_parameters(theta):\n",
    "    W = [None]*len(n)\n",
    "    b = [None]*len(n)\n",
    "    j = 0\n",
    "    for i in range(1,len(n)):\n",
    "        W[i] = theta[j:j+n[i]*n[i-1]].reshape(n[i],n[i-1])\n",
    "        j = j+n[i]*n[i-1]\n",
    "        b[i] = ?\n",
    "        j = ?\n",
    "    return W, b"
   ]
  },
  {
   "cell_type": "markdown",
   "metadata": {},
   "source": [
    "# 3. Treinamento\n",
    "\n",
    "O treinamento da rede neural, implementado pela função `train` fornecida abaixo, envolve os seguintes passos:\n",
    "\n",
    "1. Inicialização dos parâmetros (vetor $\\theta$)\n",
    "2. Minimização da função custo\n",
    "\n",
    "Os pesos W devem ser inicializados com valores aleatórios pequenos, por exemplo, variáveis gaussianas com média nula e desvio padrão 1e-2. \n",
    "\n",
    "A minimização será realizada usando a função `minimize` com o método do gradiente conjugado (`method = 'CG'`). Não utilize o método padrão do SciPy pois ele é ineficiente para as dimensões desse problema.\n",
    "\n",
    "A implementação da função custo envolve:\n",
    "- Propagação direta para encontrar as matrizes $\\bA^{[\\ell]}$ e $\\bZ^{[\\ell]}$\n",
    "- Cálculo do custo J\n",
    "- Propagação reversa para encontrar as matrizes $\\bDelta^{[\\ell]}$, $dJ/d\\bW^{[\\ell]}$, $dJ/d\\bb^{[\\ell]}$\n",
    "\n",
    "Lembre-se que todas estas matrizes possuem $m$ colunas, i.e., são formadas pela concatenação horizontal dos vetores correspondentes ao longo das amostras de treinamento.\n",
    "\n",
    "Note que uma implementação vetorizada, i.e., usando matrizes e operações com matrizes ao invés de laços `for`, é imprescindível para garantir um treinamento eficiente. Por outro lado, em quaisquer das duas propagações, ainda será necessário iterar ao longo das camadas, uma vez existe uma dependência entre elas.\n",
    "\n",
    "Caso necessário, utilize a checagem de gradiente (aproximação via diferenças finitas) para confirmar que a sua implementação está correta.\n",
    "\n",
    "1. Treine uma rede neural com $L=2$ camadas, com $n_1$ à sua escolha, e reporte sua acurácia no conjunto de treinamento e no conjunto de teste.\n",
    "2. Introduza regularização $\\ell_2$ ao treinamento e repita o item anterior.\n",
    "\n",
    "Seu objetivo para esta questão é obter pelo menos **72% de acurácia** no conjunto de teste. Fique à vontade para experimentar alterar os parâmetros do modelo e do treinamento até obter um bom desempenho."
   ]
  },
  {
   "cell_type": "code",
   "execution_count": 5,
   "metadata": {
    "collapsed": true
   },
   "outputs": [],
   "source": [
    "def train(X, Y, lamb=0):\n",
    "    import scipy.optimize as opt\n",
    "    theta = initialize_parameters()\n",
    "    theta = opt.minimize(fun=cost, x0=theta, method='CG', jac=True, args=(X,Y,lamb), options={'maxiter': 1000, 'disp': True}).x\n",
    "    return theta\n",
    "\n",
    "def initialize_parameters():\n",
    "    return theta\n",
    "\n",
    "def cost(theta, X, Y, lamb):    \n",
    "    W, b = split_parameters(theta)\n",
    "\n",
    "    # Forward propagation\n",
    " \n",
    "    # Compute cost\n",
    "        \n",
    "    # Backpropagation\n",
    "    \n",
    "    grad = merge_parameters(dJ_dW, dJ_db)    \n",
    "    return J, grad\n",
    "\n",
    "def predict_class(theta, X):    \n",
    "    W, b = split_parameters(theta)\n",
    "    \n",
    "    # Forward propagation\n",
    "    \n",
    "    Y_pred = (Y_hat > 0.5).astype(float)\n",
    "    return Y_pred\n",
    "\n",
    "def accuracy(theta, X, Y):\n",
    "    Y_pred = predict_class(theta, X)\n",
    "    return np.mean(Y_pred == Y)"
   ]
  },
  {
   "cell_type": "code",
   "execution_count": 6,
   "metadata": {
    "collapsed": true
   },
   "outputs": [],
   "source": [
    "n = (X_train.shape[1], ?, ?)\n",
    "lamb = 0"
   ]
  },
  {
   "cell_type": "code",
   "execution_count": 7,
   "metadata": {
    "collapsed": true
   },
   "outputs": [],
   "source": [
    "np.random.seed(0)"
   ]
  },
  {
   "cell_type": "code",
   "execution_count": 8,
   "metadata": {
    "scrolled": true
   },
   "outputs": [
    {
     "name": "stdout",
     "output_type": "stream",
     "text": [
      "Optimization terminated successfully.\n",
      "         Current function value: 0.000024\n",
      "         Iterations: 254\n",
      "         Function evaluations: 598\n",
      "         Gradient evaluations: 598\n",
      "Train accuracy: 100.0 %\n",
      "Test accuracy: 70.0 %\n"
     ]
    }
   ],
   "source": [
    "theta = train(X_train,Y_train,lamb)\n",
    "print('Train accuracy:', accuracy(theta,X_train,Y_train)*100, '%')\n",
    "print('Test accuracy:', accuracy(theta,X_test,Y_test)*100, '%')"
   ]
  },
  {
   "cell_type": "markdown",
   "metadata": {},
   "source": [
    "Você experimentou usar um número grande ($L>2$) de camadas, i.e., uma rede profunda? O que você observou?"
   ]
  },
  {
   "cell_type": "markdown",
   "metadata": {},
   "source": [
    "# 4. Implementação via biblioteca padrão\n",
    "\n",
    "Agora, refaça o exercício usando a biblioteca `scikit-learn`. Assim como antes, seu objetivo é obter **72% de acurácia** no conjunto de teste."
   ]
  },
  {
   "cell_type": "code",
   "execution_count": 9,
   "metadata": {},
   "outputs": [
    {
     "name": "stdout",
     "output_type": "stream",
     "text": [
      "Train accuracy: 100.0 %\n",
      "Test accuracy: 70.0 %\n"
     ]
    }
   ],
   "source": [
    "from sklearn.neural_network import MLPClassifier\n",
    "model = MLPClassifier(hidden_layer_sizes=?, alpha=?, max_iter=?, activation='logistic', solver='lbfgs', random_state=0)"
   ]
  },
  {
   "cell_type": "markdown",
   "metadata": {},
   "source": [
    "# 5. (OPCIONAL) Questões avançadas\n",
    "\n",
    "1. Escolha um outro conjunto de dados da sua preferência e tente classificá-lo usando uma rede neural. Ex:\n",
    "```python\n",
    "mnist = sklearn.datasets.fetch_mldata('MNIST original', data_home='./data')\n",
    "```\n",
    "2. Generalize sua implementação para permitir funções de ativação diferentes nas camadas ocultas e na camada de saída. Experimente a função de ativação ReLU nas camadas ocultas e verifique se consegue melhorar o desempenho.\n",
    "2. Implemente o método do gradiente mini-batch.\n",
    "3. Implemente e treine uma rede neural para classificação multi-classe com a função de ativação softmax e o custo de entropia cruzada categórica."
   ]
  }
 ],
 "metadata": {
  "kernelspec": {
   "display_name": "Python 3",
   "language": "python",
   "name": "python3"
  },
  "language_info": {
   "codemirror_mode": {
    "name": "ipython",
    "version": 3
   },
   "file_extension": ".py",
   "mimetype": "text/x-python",
   "name": "python",
   "nbconvert_exporter": "python",
   "pygments_lexer": "ipython3",
   "version": "3.6.1"
  }
 },
 "nbformat": 4,
 "nbformat_minor": 2
}
